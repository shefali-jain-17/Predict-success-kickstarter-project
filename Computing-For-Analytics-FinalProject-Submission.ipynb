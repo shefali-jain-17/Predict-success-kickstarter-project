{
 "cells": [
  {
   "cell_type": "markdown",
   "metadata": {},
   "source": [
    "## Table of Contents\n",
    "\n",
    "[**Problem Statement**](#Problem)\n",
    "\n",
    "[**Libraries Used**](#Libraries)\n",
    "\n",
    "[**Downloading the data-set and Unzip the files**](#Download)\n",
    "\n",
    "[**Exploratory Data Analysis**](#EDA)\n",
    "\n",
    "[**K-Means Clustering**](#Clustering)\n",
    "\n",
    "[**Linear Regression**](#Linear-Regression)\n",
    "\n",
    "[**Logistics Regression**](#Logistic-Regression)\n",
    "\n",
    "[**Simulation**](#Simulation)\n",
    "\n",
    "[**Timing and Efficiency**](#Timing-Efficiency)"
   ]
  },
  {
   "cell_type": "markdown",
   "metadata": {},
   "source": [
    "<a name=\"Problem\">\n",
    "### Problem Statement\n",
    "</a>"
   ]
  },
  {
   "cell_type": "markdown",
   "metadata": {},
   "source": [
    "Crowdfunding has become one of the most popular funding techniques that start-ups utilize. However the probability of successfully raising funds through crowdfunding is still quite uncertain. If the start-ups can know the factors that impact the probability of successfully collecting the goal amount, they could tweak their campaign or business model and in turn increase their chances of success. That is what we aim to do through this project. We want to understand what factors impact the success and if we can come up with a model that can be used to predict the probability of success."
   ]
  },
  {
   "cell_type": "markdown",
   "metadata": {},
   "source": [
    "<a name=\"Libraries\">\n",
    "### Libraries used in the code \n",
    "</a>\n",
    "\n",
    "Following libraries are present by default in Python 3.6\n",
    "\n",
    "* sys\n",
    "* os\n",
    "* zipfile\n",
    "* math\n",
    "* time\n",
    "\n",
    "Additional libraries installed \n",
    "\n",
    "* wget\n",
    "* pandas\n",
    "* matplotlib\n",
    "* numpy\n",
    "* seaborn\n",
    "* plotly\n",
    "* scikit-learn\n",
    "* statsmodels"
   ]
  },
  {
   "cell_type": "code",
   "execution_count": 1,
   "metadata": {},
   "outputs": [
    {
     "name": "stdout",
     "output_type": "stream",
     "text": [
      "Requirement already satisfied: wget in c:\\users\\yuvraj\\anaconda3\\lib\\site-packages (3.2)\n"
     ]
    },
    {
     "name": "stderr",
     "output_type": "stream",
     "text": [
      "distributed 1.21.8 requires msgpack, which is not installed.\n"
     ]
    },
    {
     "name": "stdout",
     "output_type": "stream",
     "text": [
      "Requirement already satisfied: pandas in c:\\users\\yuvraj\\anaconda3\\lib\\site-packages (0.23.0)\n",
      "Requirement already satisfied: numpy>=1.9.0 in c:\\users\\yuvraj\\anaconda3\\lib\\site-packages (from pandas) (1.14.3)\n",
      "Requirement already satisfied: pytz>=2011k in c:\\users\\yuvraj\\anaconda3\\lib\\site-packages (from pandas) (2018.4)\n",
      "Requirement already satisfied: python-dateutil>=2.5.0 in c:\\users\\yuvraj\\anaconda3\\lib\\site-packages (from pandas) (2.7.3)\n",
      "Requirement already satisfied: six>=1.5 in c:\\users\\yuvraj\\anaconda3\\lib\\site-packages (from python-dateutil>=2.5.0->pandas) (1.11.0)\n"
     ]
    },
    {
     "name": "stderr",
     "output_type": "stream",
     "text": [
      "distributed 1.21.8 requires msgpack, which is not installed.\n"
     ]
    },
    {
     "name": "stdout",
     "output_type": "stream",
     "text": [
      "Requirement already satisfied: matplotlib in c:\\users\\yuvraj\\anaconda3\\lib\\site-packages (2.2.2)\n",
      "Requirement already satisfied: numpy>=1.7.1 in c:\\users\\yuvraj\\anaconda3\\lib\\site-packages (from matplotlib) (1.14.3)\n",
      "Requirement already satisfied: cycler>=0.10 in c:\\users\\yuvraj\\anaconda3\\lib\\site-packages (from matplotlib) (0.10.0)\n",
      "Requirement already satisfied: pyparsing!=2.0.4,!=2.1.2,!=2.1.6,>=2.0.1 in c:\\users\\yuvraj\\anaconda3\\lib\\site-packages (from matplotlib) (2.2.0)\n",
      "Requirement already satisfied: python-dateutil>=2.1 in c:\\users\\yuvraj\\anaconda3\\lib\\site-packages (from matplotlib) (2.7.3)\n",
      "Requirement already satisfied: pytz in c:\\users\\yuvraj\\anaconda3\\lib\\site-packages (from matplotlib) (2018.4)\n",
      "Requirement already satisfied: six>=1.10 in c:\\users\\yuvraj\\anaconda3\\lib\\site-packages (from matplotlib) (1.11.0)\n",
      "Requirement already satisfied: kiwisolver>=1.0.1 in c:\\users\\yuvraj\\anaconda3\\lib\\site-packages (from matplotlib) (1.0.1)\n",
      "Requirement already satisfied: setuptools in c:\\users\\yuvraj\\anaconda3\\lib\\site-packages (from kiwisolver>=1.0.1->matplotlib) (39.1.0)\n"
     ]
    },
    {
     "name": "stderr",
     "output_type": "stream",
     "text": [
      "distributed 1.21.8 requires msgpack, which is not installed.\n"
     ]
    },
    {
     "name": "stdout",
     "output_type": "stream",
     "text": [
      "Requirement already satisfied: numpy in c:\\users\\yuvraj\\anaconda3\\lib\\site-packages (1.14.3)\n"
     ]
    },
    {
     "name": "stderr",
     "output_type": "stream",
     "text": [
      "distributed 1.21.8 requires msgpack, which is not installed.\n"
     ]
    },
    {
     "name": "stdout",
     "output_type": "stream",
     "text": [
      "Requirement already satisfied: seaborn in c:\\users\\yuvraj\\anaconda3\\lib\\site-packages (0.8.1)\n",
      "Requirement already satisfied: numpy in c:\\users\\yuvraj\\anaconda3\\lib\\site-packages (from seaborn) (1.14.3)\n",
      "Requirement already satisfied: scipy in c:\\users\\yuvraj\\anaconda3\\lib\\site-packages (from seaborn) (1.1.0)\n",
      "Requirement already satisfied: matplotlib in c:\\users\\yuvraj\\anaconda3\\lib\\site-packages (from seaborn) (2.2.2)\n",
      "Requirement already satisfied: pandas in c:\\users\\yuvraj\\anaconda3\\lib\\site-packages (from seaborn) (0.23.0)\n",
      "Requirement already satisfied: cycler>=0.10 in c:\\users\\yuvraj\\anaconda3\\lib\\site-packages (from matplotlib->seaborn) (0.10.0)\n",
      "Requirement already satisfied: pyparsing!=2.0.4,!=2.1.2,!=2.1.6,>=2.0.1 in c:\\users\\yuvraj\\anaconda3\\lib\\site-packages (from matplotlib->seaborn) (2.2.0)\n",
      "Requirement already satisfied: python-dateutil>=2.1 in c:\\users\\yuvraj\\anaconda3\\lib\\site-packages (from matplotlib->seaborn) (2.7.3)\n",
      "Requirement already satisfied: pytz in c:\\users\\yuvraj\\anaconda3\\lib\\site-packages (from matplotlib->seaborn) (2018.4)\n",
      "Requirement already satisfied: six>=1.10 in c:\\users\\yuvraj\\anaconda3\\lib\\site-packages (from matplotlib->seaborn) (1.11.0)\n",
      "Requirement already satisfied: kiwisolver>=1.0.1 in c:\\users\\yuvraj\\anaconda3\\lib\\site-packages (from matplotlib->seaborn) (1.0.1)\n",
      "Requirement already satisfied: setuptools in c:\\users\\yuvraj\\anaconda3\\lib\\site-packages (from kiwisolver>=1.0.1->matplotlib->seaborn) (39.1.0)\n"
     ]
    },
    {
     "name": "stderr",
     "output_type": "stream",
     "text": [
      "distributed 1.21.8 requires msgpack, which is not installed.\n"
     ]
    },
    {
     "name": "stdout",
     "output_type": "stream",
     "text": [
      "Requirement already satisfied: plotly in c:\\users\\yuvraj\\anaconda3\\lib\\site-packages (3.0.0)\n",
      "Requirement already satisfied: retrying>=1.3.3 in c:\\users\\yuvraj\\anaconda3\\lib\\site-packages (from plotly) (1.3.3)\n",
      "Requirement already satisfied: six in c:\\users\\yuvraj\\anaconda3\\lib\\site-packages (from plotly) (1.11.0)\n",
      "Requirement already satisfied: decorator>=4.0.6 in c:\\users\\yuvraj\\anaconda3\\lib\\site-packages (from plotly) (4.3.0)\n",
      "Requirement already satisfied: nbformat>=4.2 in c:\\users\\yuvraj\\anaconda3\\lib\\site-packages (from plotly) (4.4.0)\n",
      "Requirement already satisfied: requests in c:\\users\\yuvraj\\anaconda3\\lib\\site-packages (from plotly) (2.18.4)\n",
      "Requirement already satisfied: pytz in c:\\users\\yuvraj\\anaconda3\\lib\\site-packages (from plotly) (2018.4)\n",
      "Requirement already satisfied: ipython_genutils in c:\\users\\yuvraj\\anaconda3\\lib\\site-packages (from nbformat>=4.2->plotly) (0.2.0)\n",
      "Requirement already satisfied: traitlets>=4.1 in c:\\users\\yuvraj\\anaconda3\\lib\\site-packages (from nbformat>=4.2->plotly) (4.3.2)\n",
      "Requirement already satisfied: jsonschema!=2.5.0,>=2.4 in c:\\users\\yuvraj\\anaconda3\\lib\\site-packages (from nbformat>=4.2->plotly) (2.6.0)\n",
      "Requirement already satisfied: jupyter_core in c:\\users\\yuvraj\\anaconda3\\lib\\site-packages (from nbformat>=4.2->plotly) (4.4.0)\n",
      "Requirement already satisfied: chardet<3.1.0,>=3.0.2 in c:\\users\\yuvraj\\anaconda3\\lib\\site-packages (from requests->plotly) (3.0.4)\n",
      "Requirement already satisfied: idna<2.7,>=2.5 in c:\\users\\yuvraj\\anaconda3\\lib\\site-packages (from requests->plotly) (2.6)\n",
      "Requirement already satisfied: urllib3<1.23,>=1.21.1 in c:\\users\\yuvraj\\anaconda3\\lib\\site-packages (from requests->plotly) (1.22)\n",
      "Requirement already satisfied: certifi>=2017.4.17 in c:\\users\\yuvraj\\anaconda3\\lib\\site-packages (from requests->plotly) (2018.4.16)\n"
     ]
    },
    {
     "name": "stderr",
     "output_type": "stream",
     "text": [
      "distributed 1.21.8 requires msgpack, which is not installed.\n"
     ]
    },
    {
     "name": "stdout",
     "output_type": "stream",
     "text": [
      "Requirement already satisfied: scikit-learn in c:\\users\\yuvraj\\anaconda3\\lib\\site-packages (0.19.1)\n"
     ]
    },
    {
     "name": "stderr",
     "output_type": "stream",
     "text": [
      "distributed 1.21.8 requires msgpack, which is not installed.\n"
     ]
    },
    {
     "name": "stdout",
     "output_type": "stream",
     "text": [
      "Requirement already satisfied: statsmodels in c:\\users\\yuvraj\\anaconda3\\lib\\site-packages (0.9.0)\n"
     ]
    },
    {
     "name": "stderr",
     "output_type": "stream",
     "text": [
      "distributed 1.21.8 requires msgpack, which is not installed.\n"
     ]
    }
   ],
   "source": [
    "# Install the following pip packages in the current Jupyter kernel which are required while running the code.\n",
    "import sys\n",
    "!{sys.executable} -m pip install wget\n",
    "!{sys.executable} -m pip install pandas\n",
    "!{sys.executable} -m pip install matplotlib\n",
    "!{sys.executable} -m pip install numpy\n",
    "!{sys.executable} -m pip install seaborn\n",
    "!{sys.executable} -m pip install plotly\n",
    "!{sys.executable} -m pip install scikit-learn\n",
    "!{sys.executable} -m pip install statsmodels"
   ]
  },
  {
   "cell_type": "markdown",
   "metadata": {},
   "source": [
    "** Note: If you haven't set the Python path in environment variable, the above libraries won't be installed via the code. In such cases please install the required package by using the above command of pip install. Install plotly and wget using** \n",
    "\n",
    "*pip install plotly*\n",
    "\n",
    "*pip install wget*"
   ]
  },
  {
   "cell_type": "code",
   "execution_count": 82,
   "metadata": {
    "scrolled": true
   },
   "outputs": [],
   "source": [
    "# Loading the libraries required for Exploratory Data Analysis\n",
    "import os\n",
    "import pandas as pd\n",
    "import matplotlib.pyplot as plt\n",
    "%matplotlib inline\n",
    "import numpy as np\n",
    "import seaborn as sns\n",
    "import plotly.plotly as py\n",
    "import plotly\n",
    "import math\n",
    "import time"
   ]
  },
  {
   "cell_type": "code",
   "execution_count": 3,
   "metadata": {},
   "outputs": [],
   "source": [
    "# Setting up credentials to access plotly graphs\n",
    "plotly.tools.set_credentials_file(username='gupta485', api_key='xG5tpDwCFRmYSOQoALmo') # Created a demo credential for usage."
   ]
  },
  {
   "cell_type": "markdown",
   "metadata": {},
   "source": [
    "**Note**: *To run this notebook as standalone on any Python 3.6 standard installation, we have installed the various libraries required for running this code. Also, I am downloading the data-set files required for analysis*"
   ]
  },
  {
   "cell_type": "markdown",
   "metadata": {},
   "source": [
    "<a name=\"Download\">\n",
    "### Downloading the data-set\n",
    "</a>"
   ]
  },
  {
   "cell_type": "code",
   "execution_count": 4,
   "metadata": {},
   "outputs": [],
   "source": [
    "# Downloading the required zip file and storing it in an output directory\n",
    "import wget\n",
    "\n",
    "download_url_list=['https://raw.githubusercontent.com/guptayuvraj/Computing-For-Analytics-Project/master/kickstarter-dataset.zip'] #Providing the input of a file-name\n",
    "current_directory=os.getcwd()\n",
    "\n",
    "for download_file in download_url_list:\n",
    "    wget.download(download_file,current_directory) # Downloading the required zip file and storing it in the current working directory"
   ]
  },
  {
   "cell_type": "code",
   "execution_count": 5,
   "metadata": {},
   "outputs": [],
   "source": [
    "# Extracting the data-set file from the zip file\n",
    "import zipfile\n",
    "file_name_extract = download_url_list[0].split('/')[-1:] #Fetching the file-name\n",
    "file_name = os.path.abspath(file_name_extract[0])# Providing absolute path of the file to extract\n",
    "zipfile.ZipFile(file_name).extractall() # Extract file in the absolute path directory."
   ]
  },
  {
   "cell_type": "code",
   "execution_count": 6,
   "metadata": {},
   "outputs": [],
   "source": [
    "# Reading the extracted file and storing required columns in a data frame\n",
    "df=pd.read_csv('ks-projects-201801.csv', sep = ',') # Reading the kickstarter data csv file in Panda data-frame. \n",
    "df_country_code = pd.read_csv('2014_world_gdp_with_codes.csv') #Reading the country-codes data in Panda data-frame."
   ]
  },
  {
   "cell_type": "code",
   "execution_count": 7,
   "metadata": {
    "scrolled": false
   },
   "outputs": [
    {
     "data": {
      "text/html": [
       "<div>\n",
       "<style scoped>\n",
       "    .dataframe tbody tr th:only-of-type {\n",
       "        vertical-align: middle;\n",
       "    }\n",
       "\n",
       "    .dataframe tbody tr th {\n",
       "        vertical-align: top;\n",
       "    }\n",
       "\n",
       "    .dataframe thead th {\n",
       "        text-align: right;\n",
       "    }\n",
       "</style>\n",
       "<table border=\"1\" class=\"dataframe\">\n",
       "  <thead>\n",
       "    <tr style=\"text-align: right;\">\n",
       "      <th></th>\n",
       "      <th>ID</th>\n",
       "      <th>goal</th>\n",
       "      <th>pledged</th>\n",
       "      <th>backers</th>\n",
       "      <th>usd pledged</th>\n",
       "      <th>usd_pledged_real</th>\n",
       "      <th>usd_goal_real</th>\n",
       "    </tr>\n",
       "  </thead>\n",
       "  <tbody>\n",
       "    <tr>\n",
       "      <th>count</th>\n",
       "      <td>378661.000</td>\n",
       "      <td>378661.000</td>\n",
       "      <td>378661.000</td>\n",
       "      <td>378661.000</td>\n",
       "      <td>374864.000</td>\n",
       "      <td>378661.000</td>\n",
       "      <td>378661.000</td>\n",
       "    </tr>\n",
       "    <tr>\n",
       "      <th>mean</th>\n",
       "      <td>1074731191.989</td>\n",
       "      <td>49080.792</td>\n",
       "      <td>9682.979</td>\n",
       "      <td>105.617</td>\n",
       "      <td>7036.729</td>\n",
       "      <td>9058.924</td>\n",
       "      <td>45454.401</td>\n",
       "    </tr>\n",
       "    <tr>\n",
       "      <th>std</th>\n",
       "      <td>619086204.323</td>\n",
       "      <td>1183391.259</td>\n",
       "      <td>95636.010</td>\n",
       "      <td>907.185</td>\n",
       "      <td>78639.745</td>\n",
       "      <td>90973.343</td>\n",
       "      <td>1152950.055</td>\n",
       "    </tr>\n",
       "    <tr>\n",
       "      <th>min</th>\n",
       "      <td>5971.000</td>\n",
       "      <td>0.010</td>\n",
       "      <td>0.000</td>\n",
       "      <td>0.000</td>\n",
       "      <td>0.000</td>\n",
       "      <td>0.000</td>\n",
       "      <td>0.010</td>\n",
       "    </tr>\n",
       "    <tr>\n",
       "      <th>25%</th>\n",
       "      <td>538263516.000</td>\n",
       "      <td>2000.000</td>\n",
       "      <td>30.000</td>\n",
       "      <td>2.000</td>\n",
       "      <td>16.980</td>\n",
       "      <td>31.000</td>\n",
       "      <td>2000.000</td>\n",
       "    </tr>\n",
       "    <tr>\n",
       "      <th>50%</th>\n",
       "      <td>1075275634.000</td>\n",
       "      <td>5200.000</td>\n",
       "      <td>620.000</td>\n",
       "      <td>12.000</td>\n",
       "      <td>394.720</td>\n",
       "      <td>624.330</td>\n",
       "      <td>5500.000</td>\n",
       "    </tr>\n",
       "    <tr>\n",
       "      <th>75%</th>\n",
       "      <td>1610148624.000</td>\n",
       "      <td>16000.000</td>\n",
       "      <td>4076.000</td>\n",
       "      <td>56.000</td>\n",
       "      <td>3034.090</td>\n",
       "      <td>4050.000</td>\n",
       "      <td>15500.000</td>\n",
       "    </tr>\n",
       "    <tr>\n",
       "      <th>max</th>\n",
       "      <td>2147476221.000</td>\n",
       "      <td>100000000.000</td>\n",
       "      <td>20338986.270</td>\n",
       "      <td>219382.000</td>\n",
       "      <td>20338986.270</td>\n",
       "      <td>20338986.270</td>\n",
       "      <td>166361390.710</td>\n",
       "    </tr>\n",
       "  </tbody>\n",
       "</table>\n",
       "</div>"
      ],
      "text/plain": [
       "                  ID          goal      pledged    backers  usd pledged  \\\n",
       "count     378661.000    378661.000   378661.000 378661.000   374864.000   \n",
       "mean  1074731191.989     49080.792     9682.979    105.617     7036.729   \n",
       "std    619086204.323   1183391.259    95636.010    907.185    78639.745   \n",
       "min         5971.000         0.010        0.000      0.000        0.000   \n",
       "25%    538263516.000      2000.000       30.000      2.000       16.980   \n",
       "50%   1075275634.000      5200.000      620.000     12.000      394.720   \n",
       "75%   1610148624.000     16000.000     4076.000     56.000     3034.090   \n",
       "max   2147476221.000 100000000.000 20338986.270 219382.000 20338986.270   \n",
       "\n",
       "       usd_pledged_real  usd_goal_real  \n",
       "count        378661.000     378661.000  \n",
       "mean           9058.924      45454.401  \n",
       "std           90973.343    1152950.055  \n",
       "min               0.000          0.010  \n",
       "25%              31.000       2000.000  \n",
       "50%             624.330       5500.000  \n",
       "75%            4050.000      15500.000  \n",
       "max        20338986.270  166361390.710  "
      ]
     },
     "execution_count": 7,
     "metadata": {},
     "output_type": "execute_result"
    }
   ],
   "source": [
    "pd.set_option('display.float_format', lambda x: '%.3f' % x) #Setting the parameter to display upto 3 digits after decimal\n",
    "df.describe() # Provide descriptive statistics of the numerical field in the data-set"
   ]
  },
  {
   "cell_type": "markdown",
   "metadata": {},
   "source": [
    "### Cleaning the dataframe in order to analyse further"
   ]
  },
  {
   "cell_type": "code",
   "execution_count": 8,
   "metadata": {},
   "outputs": [
    {
     "data": {
      "text/plain": [
       "ID                     0\n",
       "name                   4\n",
       "category               0\n",
       "main_category          0\n",
       "currency               0\n",
       "deadline               0\n",
       "goal                   0\n",
       "launched               0\n",
       "pledged                0\n",
       "state                  0\n",
       "backers                0\n",
       "country                0\n",
       "usd pledged         3797\n",
       "usd_pledged_real       0\n",
       "usd_goal_real          0\n",
       "dtype: int64"
      ]
     },
     "execution_count": 8,
     "metadata": {},
     "output_type": "execute_result"
    }
   ],
   "source": [
    "df.isnull().sum() #Finding if the data contains null values"
   ]
  },
  {
   "cell_type": "code",
   "execution_count": 9,
   "metadata": {
    "scrolled": true
   },
   "outputs": [
    {
     "data": {
      "text/html": [
       "<div>\n",
       "<style scoped>\n",
       "    .dataframe tbody tr th:only-of-type {\n",
       "        vertical-align: middle;\n",
       "    }\n",
       "\n",
       "    .dataframe tbody tr th {\n",
       "        vertical-align: top;\n",
       "    }\n",
       "\n",
       "    .dataframe thead th {\n",
       "        text-align: right;\n",
       "    }\n",
       "</style>\n",
       "<table border=\"1\" class=\"dataframe\">\n",
       "  <thead>\n",
       "    <tr style=\"text-align: right;\">\n",
       "      <th></th>\n",
       "      <th>ID</th>\n",
       "      <th>name</th>\n",
       "      <th>category</th>\n",
       "      <th>main_category</th>\n",
       "      <th>currency</th>\n",
       "      <th>deadline</th>\n",
       "      <th>goal</th>\n",
       "      <th>launched</th>\n",
       "      <th>pledged</th>\n",
       "      <th>state</th>\n",
       "      <th>backers</th>\n",
       "      <th>country</th>\n",
       "      <th>usd pledged</th>\n",
       "      <th>usd_pledged_real</th>\n",
       "      <th>usd_goal_real</th>\n",
       "    </tr>\n",
       "  </thead>\n",
       "  <tbody>\n",
       "    <tr>\n",
       "      <th>166851</th>\n",
       "      <td>1848699072</td>\n",
       "      <td>NaN</td>\n",
       "      <td>Narrative Film</td>\n",
       "      <td>Film &amp; Video</td>\n",
       "      <td>USD</td>\n",
       "      <td>2012-02-29</td>\n",
       "      <td>200000.000</td>\n",
       "      <td>2012-01-01 12:35:31</td>\n",
       "      <td>100.000</td>\n",
       "      <td>failed</td>\n",
       "      <td>1</td>\n",
       "      <td>US</td>\n",
       "      <td>100.000</td>\n",
       "      <td>100.000</td>\n",
       "      <td>200000.000</td>\n",
       "    </tr>\n",
       "    <tr>\n",
       "      <th>307234</th>\n",
       "      <td>634871725</td>\n",
       "      <td>NaN</td>\n",
       "      <td>Video Games</td>\n",
       "      <td>Games</td>\n",
       "      <td>GBP</td>\n",
       "      <td>2013-01-06</td>\n",
       "      <td>2000.000</td>\n",
       "      <td>2012-12-19 23:57:48</td>\n",
       "      <td>196.000</td>\n",
       "      <td>failed</td>\n",
       "      <td>12</td>\n",
       "      <td>GB</td>\n",
       "      <td>317.730</td>\n",
       "      <td>316.050</td>\n",
       "      <td>3224.970</td>\n",
       "    </tr>\n",
       "    <tr>\n",
       "      <th>309991</th>\n",
       "      <td>648853978</td>\n",
       "      <td>NaN</td>\n",
       "      <td>Product Design</td>\n",
       "      <td>Design</td>\n",
       "      <td>USD</td>\n",
       "      <td>2016-07-18</td>\n",
       "      <td>2500.000</td>\n",
       "      <td>2016-06-18 05:01:47</td>\n",
       "      <td>0.000</td>\n",
       "      <td>suspended</td>\n",
       "      <td>0</td>\n",
       "      <td>US</td>\n",
       "      <td>0.000</td>\n",
       "      <td>0.000</td>\n",
       "      <td>2500.000</td>\n",
       "    </tr>\n",
       "    <tr>\n",
       "      <th>338931</th>\n",
       "      <td>796533179</td>\n",
       "      <td>NaN</td>\n",
       "      <td>Painting</td>\n",
       "      <td>Art</td>\n",
       "      <td>USD</td>\n",
       "      <td>2011-12-05</td>\n",
       "      <td>35000.000</td>\n",
       "      <td>2011-11-06 23:55:55</td>\n",
       "      <td>220.000</td>\n",
       "      <td>failed</td>\n",
       "      <td>5</td>\n",
       "      <td>US</td>\n",
       "      <td>220.000</td>\n",
       "      <td>220.000</td>\n",
       "      <td>35000.000</td>\n",
       "    </tr>\n",
       "  </tbody>\n",
       "</table>\n",
       "</div>"
      ],
      "text/plain": [
       "                ID name        category main_category currency    deadline  \\\n",
       "166851  1848699072  NaN  Narrative Film  Film & Video      USD  2012-02-29   \n",
       "307234   634871725  NaN     Video Games         Games      GBP  2013-01-06   \n",
       "309991   648853978  NaN  Product Design        Design      USD  2016-07-18   \n",
       "338931   796533179  NaN        Painting           Art      USD  2011-12-05   \n",
       "\n",
       "             goal             launched  pledged      state  backers country  \\\n",
       "166851 200000.000  2012-01-01 12:35:31  100.000     failed        1      US   \n",
       "307234   2000.000  2012-12-19 23:57:48  196.000     failed       12      GB   \n",
       "309991   2500.000  2016-06-18 05:01:47    0.000  suspended        0      US   \n",
       "338931  35000.000  2011-11-06 23:55:55  220.000     failed        5      US   \n",
       "\n",
       "        usd pledged  usd_pledged_real  usd_goal_real  \n",
       "166851      100.000           100.000     200000.000  \n",
       "307234      317.730           316.050       3224.970  \n",
       "309991        0.000             0.000       2500.000  \n",
       "338931      220.000           220.000      35000.000  "
      ]
     },
     "execution_count": 9,
     "metadata": {},
     "output_type": "execute_result"
    }
   ],
   "source": [
    "df[df['name'].isnull()] #Checking the data corresponding to null Name, this data can be discarded as we are not analyzing on the basis of Name"
   ]
  },
  {
   "cell_type": "markdown",
   "metadata": {},
   "source": [
    "**Note : We can discard the null values in name and usd pledged column as we will not be utilizing that column for analysis.**\n",
    "*Also, we would drop columns from the data-frame while further analyzing the data.*"
   ]
  },
  {
   "cell_type": "markdown",
   "metadata": {},
   "source": [
    "<a name=\"EDA\"> \n",
    "### Exploratory Data Analysis to understand the data better\n",
    "</a>"
   ]
  },
  {
   "cell_type": "markdown",
   "metadata": {},
   "source": [
    "### Number of Projects per Year"
   ]
  },
  {
   "cell_type": "code",
   "execution_count": 10,
   "metadata": {
    "scrolled": true
   },
   "outputs": [
    {
     "data": {
      "image/png": "[encoded data removed]",
      "text/plain": [
       "<Figure size 432x288 with 1 Axes>"
      ]
     },
     "metadata": {},
     "output_type": "display_data"
    }
   ],
   "source": [
    "x_axis=(pd.to_datetime(df['deadline'])).dt.year.value_counts().index.values\n",
    "y_axis=(pd.to_datetime(df['deadline'])).dt.year.value_counts()\n",
    "ax=plt.bar(x_axis,y_axis, align='center', alpha=0.5)\n",
    "plt.xticks(x_axis)\n",
    "plt.xlabel('Year')\n",
    "plt.ylabel('Count')\n",
    "plt.title('No. of Projects per Year')\n",
    "plt.show()"
   ]
  },
  {
   "cell_type": "markdown",
   "metadata": {},
   "source": [
    "#### From the above graph, we can infer that the number of projects steadily increased till 2015, but there has been a decline in the past 2 years."
   ]
  },
  {
   "cell_type": "markdown",
   "metadata": {},
   "source": [
    "### Count of projects distributed across various states present in Kickstarter"
   ]
  },
  {
   "cell_type": "code",
   "execution_count": 11,
   "metadata": {
    "scrolled": true
   },
   "outputs": [
    {
     "data": {
      "text/html": [
       "<iframe id=\"igraph\" scrolling=\"no\" style=\"border:none;\" seamless=\"seamless\" src=\"https://plot.ly/~gupta485/10.embed\" height=\"525px\" width=\"100%\"></iframe>"
      ],
      "text/plain": [
       "<plotly.tools.PlotlyDisplay object>"
      ]
     },
     "execution_count": 11,
     "metadata": {},
     "output_type": "execute_result"
    }
   ],
   "source": [
    "# Using plotly library to create a pie chart with further customizations\n",
    "import plotly.graph_objs as go\n",
    "\n",
    "cmap = plt.get_cmap('Spectral') # Using one of the various colormaps available \n",
    "colors = [cmap(i) for i in np.linspace(0, 1, 12)] # Fetching colors from the color map to show the color of the pie in chart\n",
    "\n",
    "# Providing parameters to create the pie chart below. Parameters such as labels : using the name of index of various state values, values : using the count of values per state, marker:  using colors for different slices of pie chart among other customization.\n",
    "parameters_pie_chart = go.Pie(labels=df.state.value_counts().index, values=df.state.value_counts(), marker=dict(colors=colors\n",
    "                                                , line=dict(color='#FFF', width=2)), rotation = 100 \n",
    "                                                , showlegend=True, name='No. of Projects per state on Kickstarter', textinfo='label+value') \n",
    "\n",
    "layout = go.Layout(autosize = True,\n",
    "                   title = 'No. of Projects per state on Kickstarter', showlegend = True) # Providing the title of the pie-chart and setting autosize as true\n",
    "\n",
    "pie_chart_figure = go.Figure(data = [parameters_pie_chart], layout = layout) # Creating the object to plot the pie chart with data input as the parameters and layout configuration\n",
    "\n",
    "# The below pie-chart is interactive, you can hover to get the state name, the count of projects per state and percentage as a whole. You can even download the pie-chart as an image.\n",
    "py.iplot(pie_chart_figure) # Plotting the pie chart "
   ]
  },
  {
   "cell_type": "markdown",
   "metadata": {},
   "source": [
    "*The above graph is interactive, you can hover above in the graph to get additional information*"
   ]
  },
  {
   "cell_type": "markdown",
   "metadata": {},
   "source": [
    "### No. of Projects per Category"
   ]
  },
  {
   "cell_type": "code",
   "execution_count": 12,
   "metadata": {
    "scrolled": true
   },
   "outputs": [
    {
     "data": {
      "text/html": [
       "<iframe id=\"igraph\" scrolling=\"no\" style=\"border:none;\" seamless=\"seamless\" src=\"https://plot.ly/~gupta485/12.embed\" height=\"525px\" width=\"100%\"></iframe>"
      ],
      "text/plain": [
       "<plotly.tools.PlotlyDisplay object>"
      ]
     },
     "execution_count": 12,
     "metadata": {},
     "output_type": "execute_result"
    }
   ],
   "source": [
    "data = [go.Bar(\n",
    "            x=df.main_category.value_counts().index,\n",
    "            y=df.main_category.value_counts()\n",
    "    )]\n",
    "\n",
    "layout = go.Layout(autosize = True,\n",
    "                   title = 'No. of Projects per Category on Kickstarter', xaxis=dict(title='Categories'), yaxis=dict(title='No. of Projects'))\n",
    "\n",
    "bar_chart = go.Figure(data =data, layout = layout)\n",
    "py.iplot(bar_chart)"
   ]
  },
  {
   "cell_type": "markdown",
   "metadata": {},
   "source": [
    "*The above graph is interactive, you can hover above in the graph to get additional information*"
   ]
  },
  {
   "cell_type": "markdown",
   "metadata": {},
   "source": [
    "### Success rate of Projects per Year"
   ]
  },
  {
   "cell_type": "code",
   "execution_count": 13,
   "metadata": {
    "scrolled": false
   },
   "outputs": [],
   "source": [
    "df['deadline_year']=[d.split('-')[0] for d in df.deadline]\n",
    "df['launched_year']=[d.split('-')[0] for d in df.launched]\n",
    "df['launched_month']=[d.split('-')[1] for d in df.launched]\n",
    "\n",
    "dfSF = df[(df['state'] == 'successful') | (df['state'] == 'failed')]\n",
    "success_rate_year = (dfSF[dfSF['state'] == 'successful'].groupby(dfSF.deadline_year)['deadline'].count() / dfSF.groupby(dfSF.deadline_year)['deadline'].count()) * 100\n",
    "failed_rate_year = (dfSF[dfSF['state'] == 'failed'].groupby(dfSF.deadline_year)['deadline'].count() / dfSF.groupby(dfSF.deadline_year)['deadline'].count()) * 100\n",
    "\n",
    "success_rate_year_list=success_rate_year.tolist()\n",
    "failed_rate_year_list=failed_rate_year.tolist()\n",
    "year_sorted_list=success_rate_year.index.values"
   ]
  },
  {
   "cell_type": "code",
   "execution_count": 14,
   "metadata": {},
   "outputs": [
    {
     "data": {
      "image/png": "[encoded data removed]",
      "text/plain": [
       "<Figure size 432x288 with 1 Axes>"
      ]
     },
     "metadata": {},
     "output_type": "display_data"
    }
   ],
   "source": [
    "data_values = [x for x, _ in enumerate(year_sorted_list)]\n",
    "\n",
    "plt.bar(data_values, failed_rate_year_list, width=0.8, label='Failed', color='silver', bottom=success_rate_year_list)\n",
    "plt.bar(data_values, success_rate_year_list, width=0.8, label='Success', color='#CD853F')\n",
    "\n",
    "plt.xticks(data_values, year_sorted_list)\n",
    "plt.ylabel(\"Success Rate Percentage\")\n",
    "plt.xlabel(\"Year\")\n",
    "plt.legend(loc=\"upper left\",bbox_to_anchor=(1,1))\n",
    "plt.title(\"Project per state per year\")\n",
    "\n",
    "plt.show()"
   ]
  },
  {
   "cell_type": "markdown",
   "metadata": {},
   "source": [
    "**Even though the number of projects have increased on Kickstarter, the success rate has declined. This might be because of the increasing competititon.**"
   ]
  },
  {
   "cell_type": "markdown",
   "metadata": {},
   "source": [
    "### Analysis to identify factors or trends that differentiate a successful project from an unsuccessful project"
   ]
  },
  {
   "cell_type": "code",
   "execution_count": 15,
   "metadata": {},
   "outputs": [],
   "source": [
    "success_rate_month = ((dfSF[dfSF['state'] == 'successful'].groupby(dfSF.launched_month)['launched'].count()) / df.groupby(df.launched_month)['launched'].count())*100\n",
    "failed_rate_month = ((dfSF[dfSF['state'] == 'failed'].groupby(dfSF.launched_month)['launched'].count()) / df.groupby(df.launched_month)['launched'].count())*100\n",
    "\n",
    "success_rate_month_list=success_rate_month.tolist()\n",
    "failed_rate_month_list=failed_rate_month.tolist()\n",
    "month_sorted_list=success_rate_month.index.values"
   ]
  },
  {
   "cell_type": "code",
   "execution_count": 16,
   "metadata": {
    "scrolled": true
   },
   "outputs": [
    {
     "data": {
      "image/png": "[encoded data removed]",
      "text/plain": [
       "<Figure size 432x288 with 1 Axes>"
      ]
     },
     "metadata": {},
     "output_type": "display_data"
    }
   ],
   "source": [
    "data_values1 = [x for x, _ in enumerate(month_sorted_list)]\n",
    "\n",
    "\n",
    "\n",
    "plt.plot(data_values1,success_rate_month_list,label='Success')\n",
    "plt.plot(data_values1,failed_rate_month_list,label='Failed')\n",
    "\n",
    "plt.xticks(data_values1, month_sorted_list)\n",
    "\n",
    "plt.title(\"Project state per month\")\n",
    "plt.ylabel(\"Percentage\")\n",
    "plt.xlabel(\"Months\")\n",
    "plt.legend(loc=\"upper left\",bbox_to_anchor=(1,1))\n",
    "plt.axis([0, 12, 20, 70])\n",
    "\n",
    "plt.show()"
   ]
  },
  {
   "cell_type": "markdown",
   "metadata": {},
   "source": [
    "# Average pledged amount for successful and non successful project"
   ]
  },
  {
   "cell_type": "code",
   "execution_count": 17,
   "metadata": {},
   "outputs": [],
   "source": [
    "success_pledged = df[df['state'] == \"successful\"]['usd_pledged_real'].sum()\n",
    "fail_pledged = df[df['state'] == 'failed']['usd_pledged_real'].sum()\n",
    "\n",
    "sum_pledged = df['usd_pledged_real'].sum()\n",
    "\n",
    "success_projects=df[df['state']=='successful']['state'].count()\n",
    "fail_projects=df[df['state']=='failed']['state'].count()"
   ]
  },
  {
   "cell_type": "code",
   "execution_count": 18,
   "metadata": {},
   "outputs": [
    {
     "data": {
      "text/html": [
       "<iframe id=\"igraph\" scrolling=\"no\" style=\"border:none;\" seamless=\"seamless\" src=\"https://plot.ly/~gupta485/14.embed\" height=\"525px\" width=\"100%\"></iframe>"
      ],
      "text/plain": [
       "<plotly.tools.PlotlyDisplay object>"
      ]
     },
     "execution_count": 18,
     "metadata": {},
     "output_type": "execute_result"
    }
   ],
   "source": [
    "# Using plotly library to create a pie chart with further customizations\n",
    "import plotly.graph_objs as go\n",
    "\n",
    "cmap = plt.get_cmap('Spectral') # Using one of the various colormaps available \n",
    "\n",
    "# Providing parameters to create the pie chart below. Parameters such as labels : using the name of index of various state values, values : using the count of values per state, marker:  using colors for different slices of pie chart among other customization.\n",
    "parameters_pie_chart = go.Pie(labels=[\"Successful\", \"Failed\"], values=[success_pledged/success_projects,fail_pledged/fail_projects], marker=dict(colors=colors\n",
    "                                                , line=dict(color='#FFF', width=2)), rotation = 100 \n",
    "                                                , showlegend=True, textinfo='label+percent') \n",
    "\n",
    "layout = go.Layout(autosize = False,\n",
    "                   title = 'Average pledged amount for Successful and Failed project', showlegend = True) # Providing the title of the pie-chart and setting autosize as true\n",
    "\n",
    "pie_chart_figure = go.Figure(data = [parameters_pie_chart], layout = layout) # Creating the object to plot the pie chart with data input as the parameters and layout configuration\n",
    "\n",
    "# The below pie-chart is interactive, you can hover to get the average pledged amount per state and percentage as a whole. You can even download the pie-chart as an image.\n",
    "py.iplot(pie_chart_figure) # Plotting the pie chart "
   ]
  },
  {
   "cell_type": "markdown",
   "metadata": {},
   "source": [
    "*The above graph is interactive, you can hover above in the graph to get additional information*"
   ]
  },
  {
   "cell_type": "markdown",
   "metadata": {},
   "source": [
    "###  Campaign length"
   ]
  },
  {
   "cell_type": "code",
   "execution_count": 19,
   "metadata": {},
   "outputs": [],
   "source": [
    "# Calculating the length of campaign\n",
    "df['length_days'] = (pd.to_datetime(df['deadline']) - pd.to_datetime(df['launched'])).dt.days + 1"
   ]
  },
  {
   "cell_type": "code",
   "execution_count": 20,
   "metadata": {},
   "outputs": [
    {
     "name": "stdout",
     "output_type": "stream",
     "text": [
      "Mean days for failed projects: 35.17\n",
      "Mean days for successful projects: 32.16\n"
     ]
    }
   ],
   "source": [
    "print('Mean days for failed projects: {0}'\n",
    "      .format(round(df[df['state'] == 'failed']['length_days'].mean(), 2)))\n",
    "print('Mean days for successful projects: {0}'\n",
    "      .format(round(df[df['state'] == 'successful']['length_days'].mean(), 2)))"
   ]
  },
  {
   "cell_type": "markdown",
   "metadata": {},
   "source": [
    "### The length of campaign which is the number of days a project collects funds from backers is different for a failed project and a successful project. We can notice that the failed projects campaings are on average a bit longer. "
   ]
  },
  {
   "cell_type": "markdown",
   "metadata": {},
   "source": [
    "### Analysis regarding Category"
   ]
  },
  {
   "cell_type": "markdown",
   "metadata": {},
   "source": [
    "### Plot for average amount for each category"
   ]
  },
  {
   "cell_type": "code",
   "execution_count": 21,
   "metadata": {},
   "outputs": [],
   "source": [
    "\n",
    "pledged_sum = {}\n",
    "for category in list(set(df['main_category'])): #set in order to show only unique values in main category\n",
    "    amount = df[df['main_category'] == category]['usd_pledged_real'].sum()\n",
    "    pledged_sum[category] = amount\n",
    "\n",
    "# Create dataframe\n",
    "df_category = pd.Series(pledged_sum)\n",
    "df_category = pd.DataFrame(df_category)\n",
    "df_category = df_category.rename(columns = {0:\"pledged sum\"})\n",
    "df_category.head()\n",
    "\n",
    "# Finding number of backers for each category\n",
    "count_category = {}\n",
    "for category in list(set(df['main_category'])):\n",
    "    count = df[df['main_category'] == category]['main_category'].count()\n",
    "    count_category[category] = count\n",
    "    \n",
    "df_category['count'] = pd.Series(count_category)\n",
    "\n",
    "#Finding average amount pledged for every category\n",
    "df_category['average amount'] = df_category['pledged sum']/ df_category['count']"
   ]
  },
  {
   "cell_type": "code",
   "execution_count": 22,
   "metadata": {},
   "outputs": [
    {
     "data": {
      "image/png": "[encoded data removed]",
      "text/plain": [
       "<Figure size 1440x360 with 1 Axes>"
      ]
     },
     "metadata": {},
     "output_type": "display_data"
    }
   ],
   "source": [
    "# average amount plot\n",
    "df_category =df_category.sort_values('average amount',  ascending = False)\n",
    "plt.subplots(figsize = (20,5))\n",
    "sns.set_style(\"whitegrid\")\n",
    "plt.xlabel(\"Categories\")\n",
    "sns.barplot(x=df_category['average amount'].index, y= df_category['average amount'] ,\n",
    "            palette=\"Set1\",saturation = 0.5)\n",
    "sns.despine(right = True, top = True)"
   ]
  },
  {
   "cell_type": "markdown",
   "metadata": {},
   "source": [
    "### Design, technology and games have the highest funding among all the categories and on an average the backers pay more for these categories. But they are not the most successful"
   ]
  },
  {
   "cell_type": "markdown",
   "metadata": {},
   "source": [
    "### Successful project % by Main Category"
   ]
  },
  {
   "cell_type": "code",
   "execution_count": 23,
   "metadata": {},
   "outputs": [
    {
     "data": {
      "text/html": [
       "<iframe id=\"igraph\" scrolling=\"no\" style=\"border:none;\" seamless=\"seamless\" src=\"https://plot.ly/~gupta485/16.embed\" height=\"525px\" width=\"100%\"></iframe>"
      ],
      "text/plain": [
       "<plotly.tools.PlotlyDisplay object>"
      ]
     },
     "execution_count": 23,
     "metadata": {},
     "output_type": "execute_result"
    }
   ],
   "source": [
    "successful_main_category_pct=((df[df['state']=='successful']['main_category'].value_counts()/df['main_category'].value_counts())*100)\n",
    "successful_main_category_pct_values = successful_main_category_pct.sort_values(ascending=False)\n",
    "successful_main_category_pct_header = successful_main_category_pct_values.index\n",
    "\n",
    "data = [go.Bar(\n",
    "            x=successful_main_category_pct_header,\n",
    "            y=successful_main_category_pct_values,\n",
    "            marker = dict(color = 'orange'),\n",
    "    )]\n",
    "\n",
    "layout = go.Layout(autosize = True,\n",
    "                   title = 'Successful % of Projects per Main Category on Kickstarter', xaxis=dict(title='Categories'), yaxis=dict(title='% of Successful Projects'))\n",
    "\n",
    "bar_chart = go.Figure(data =data, layout = layout)\n",
    "py.iplot(bar_chart)"
   ]
  },
  {
   "cell_type": "markdown",
   "metadata": {},
   "source": [
    "*The above graph is interactive, you can hover above in the graph to get additional information*"
   ]
  },
  {
   "cell_type": "markdown",
   "metadata": {},
   "source": [
    "### Projects from dance, theatre and comics categories are the most successful despite the fact that the projects in these categories do not receive a lot of funds. Therefore we infer that avereage amount of funds a project receives does not completely explain if a project will be successful in collecting the goal amount"
   ]
  },
  {
   "cell_type": "markdown",
   "metadata": {},
   "source": [
    "##  Success rates of projects  on an interactive world map"
   ]
  },
  {
   "cell_type": "code",
   "execution_count": 24,
   "metadata": {},
   "outputs": [],
   "source": [
    "#Load data\n",
    "df_map = df[[\"ID\", \"usd_goal_real\", \"state\",\"country\"]]"
   ]
  },
  {
   "cell_type": "code",
   "execution_count": 25,
   "metadata": {},
   "outputs": [
    {
     "data": {
      "text/html": [
       "<div>\n",
       "<style scoped>\n",
       "    .dataframe tbody tr th:only-of-type {\n",
       "        vertical-align: middle;\n",
       "    }\n",
       "\n",
       "    .dataframe tbody tr th {\n",
       "        vertical-align: top;\n",
       "    }\n",
       "\n",
       "    .dataframe thead th {\n",
       "        text-align: right;\n",
       "    }\n",
       "</style>\n",
       "<table border=\"1\" class=\"dataframe\">\n",
       "  <thead>\n",
       "    <tr style=\"text-align: right;\">\n",
       "      <th></th>\n",
       "      <th>ID</th>\n",
       "      <th>usd_goal_real</th>\n",
       "      <th>state</th>\n",
       "      <th>country</th>\n",
       "    </tr>\n",
       "  </thead>\n",
       "  <tbody>\n",
       "    <tr>\n",
       "      <th>0</th>\n",
       "      <td>1000002330</td>\n",
       "      <td>1533.950</td>\n",
       "      <td>failed</td>\n",
       "      <td>GB</td>\n",
       "    </tr>\n",
       "    <tr>\n",
       "      <th>1</th>\n",
       "      <td>1000003930</td>\n",
       "      <td>30000.000</td>\n",
       "      <td>failed</td>\n",
       "      <td>US</td>\n",
       "    </tr>\n",
       "    <tr>\n",
       "      <th>2</th>\n",
       "      <td>1000004038</td>\n",
       "      <td>45000.000</td>\n",
       "      <td>failed</td>\n",
       "      <td>US</td>\n",
       "    </tr>\n",
       "    <tr>\n",
       "      <th>3</th>\n",
       "      <td>1000007540</td>\n",
       "      <td>5000.000</td>\n",
       "      <td>failed</td>\n",
       "      <td>US</td>\n",
       "    </tr>\n",
       "    <tr>\n",
       "      <th>4</th>\n",
       "      <td>1000011046</td>\n",
       "      <td>19500.000</td>\n",
       "      <td>canceled</td>\n",
       "      <td>US</td>\n",
       "    </tr>\n",
       "  </tbody>\n",
       "</table>\n",
       "</div>"
      ],
      "text/plain": [
       "           ID  usd_goal_real     state country\n",
       "0  1000002330       1533.950    failed      GB\n",
       "1  1000003930      30000.000    failed      US\n",
       "2  1000004038      45000.000    failed      US\n",
       "3  1000007540       5000.000    failed      US\n",
       "4  1000011046      19500.000  canceled      US"
      ]
     },
     "execution_count": 25,
     "metadata": {},
     "output_type": "execute_result"
    }
   ],
   "source": [
    "df_map.head()"
   ]
  },
  {
   "cell_type": "code",
   "execution_count": 26,
   "metadata": {},
   "outputs": [],
   "source": [
    "#drop rows that don't have countyry info\n",
    "df_map = df_map.drop(df_map[df_map[\"country\"] == 'N,0\"'].index)"
   ]
  },
  {
   "cell_type": "code",
   "execution_count": 27,
   "metadata": {},
   "outputs": [],
   "source": [
    "#convert country abbreviates to full name\n",
    "def country(x):\n",
    "    if x==\"US\": return 'United States'\n",
    "    elif x==\"AT\": return 'Austria'\n",
    "    elif x==\"AU\": return 'Australia'\n",
    "    elif x==\"BE\": return 'Belgium'\n",
    "    elif x==\"CA\": return 'Canada'\n",
    "    elif x==\"CH\": return 'Switzerland'\n",
    "    elif x==\"DE\": return 'Germany'\n",
    "    elif x==\"DK\": return 'Denmark'\n",
    "    elif x==\"ES\": return 'Spain'\n",
    "    elif x==\"FR\": return 'France'\n",
    "    elif x==\"GB\": return 'United Kingdom'\n",
    "    elif x==\"HK\": return 'Hongkong'\n",
    "    elif x==\"IE\": return 'Spain'\n",
    "    elif x==\"IT\": return 'Italy'\n",
    "    elif x==\"JP\": return 'Japan'\n",
    "    elif x==\"LU\": return 'Luxembourg'\n",
    "    elif x==\"MX\": return 'Mexico'\n",
    "    elif x==\"NL\": return 'Netherlands'\n",
    "    elif x==\"NO\": return 'Norway'\n",
    "    elif x==\"NZ\": return 'New Zealand'\n",
    "    elif x==\"SE\": return 'Sweden'\n",
    "    elif x==\"SG\": return 'Singapore'\n",
    "    else: return 'None'\n",
    "df_map[\"fullcountry\"]=df_map[\"country\"].map(country)"
   ]
  },
  {
   "cell_type": "code",
   "execution_count": 28,
   "metadata": {},
   "outputs": [],
   "source": [
    "#if value in column is \"nan\", change it to 0\n",
    "def replace(x):\n",
    "    if math.isnan(x):  \n",
    "        return float(0)\n",
    "    else:\n",
    "        return x"
   ]
  },
  {
   "cell_type": "code",
   "execution_count": 29,
   "metadata": {},
   "outputs": [],
   "source": [
    "success_country=df_map[df_map['state'] == 'successful']['fullcountry'].value_counts()#number of successful project by country"
   ]
  },
  {
   "cell_type": "code",
   "execution_count": 30,
   "metadata": {},
   "outputs": [],
   "source": [
    "successrate_country=success_country/df_map.groupby(\"fullcountry\")[\"country\"].count()#calculate successful rate\n",
    "successrate_country=successrate_country.to_frame()#convert series to dataframe"
   ]
  },
  {
   "cell_type": "code",
   "execution_count": 31,
   "metadata": {},
   "outputs": [],
   "source": [
    "successrate_country.columns=[\"successfullrate\"]#rename column\n",
    "successrate_country[\"fullcountry\"]=successrate_country.index\n",
    "#\"successrate_country\" is adataframe catains successful rate"
   ]
  },
  {
   "cell_type": "code",
   "execution_count": 32,
   "metadata": {},
   "outputs": [],
   "source": [
    "#merge df with \"successrate_country\"\n",
    "df_country_code=df_country_code.merge(successrate_country,how=\"left\",left_on=\"COUNTRY\",right_on=\"fullcountry\")"
   ]
  },
  {
   "cell_type": "code",
   "execution_count": 33,
   "metadata": {},
   "outputs": [],
   "source": [
    "df_country_code[\"successfullrate\"]=df_country_code[\"successfullrate\"].map(replace)\n",
    "df_country_code[\"successfullrate\"]=df_country_code[\"successfullrate\"]*100"
   ]
  },
  {
   "cell_type": "code",
   "execution_count": 34,
   "metadata": {
    "scrolled": true
   },
   "outputs": [
    {
     "data": {
      "text/html": [
       "<iframe id=\"igraph\" scrolling=\"no\" style=\"border:none;\" seamless=\"seamless\" src=\"https://plot.ly/~gupta485/18.embed\" height=\"525px\" width=\"100%\"></iframe>"
      ],
      "text/plain": [
       "<plotly.tools.PlotlyDisplay object>"
      ]
     },
     "execution_count": 34,
     "metadata": {},
     "output_type": "execute_result"
    }
   ],
   "source": [
    "data = [ dict(\n",
    "        type = 'choropleth',\n",
    "        locations = df_country_code['CODE'],\n",
    "        z = df_country_code['successfullrate'],\n",
    "        text = df_country_code['COUNTRY'],\n",
    "        colorscale = [[0,\"rgb(5, 10, 172)\"],[0.35,\"rgb(40, 60, 190)\"],[0.5,\"rgb(70, 100, 245)\"],\\\n",
    "            [0.6,\"rgb(90, 120, 245)\"],[0.7,\"rgb(106, 137, 247)\"],[1,\"rgb(220, 220, 220)\"]],\n",
    "        autocolorscale = False,\n",
    "        reversescale = True,\n",
    "        marker = dict(\n",
    "            line = dict (\n",
    "                color = 'rgb(180,180,180)',\n",
    "                width = 0.5\n",
    "            ) ),\n",
    "        colorbar = dict(\n",
    "            autotick = False,\n",
    "            tickprefix = '',\n",
    "            title = 'Successful Rate Percentage'),\n",
    "      ) ]\n",
    "\n",
    "layout = dict(\n",
    "    title = 'Successful Rate of Projects by Countries',\n",
    "    geo = dict(\n",
    "        showframe = False,\n",
    "        showcoastlines = False,\n",
    "        projection = dict(\n",
    "            type = 'Mercator'\n",
    "        )\n",
    "    )\n",
    ")\n",
    "\n",
    "fig = dict( data=data, layout=layout )\n",
    "py.iplot( fig, validate=False, filename='d3-world-map' )"
   ]
  },
  {
   "cell_type": "markdown",
   "metadata": {},
   "source": [
    "*The above graph is interactive, you can hover above in the graph to get additional information*"
   ]
  },
  {
   "cell_type": "markdown",
   "metadata": {},
   "source": [
    "### USA has the largest number of projects that are successful in obtaining the goal amount. On the other hand, Italy has the lowest number of successful projects"
   ]
  },
  {
   "cell_type": "markdown",
   "metadata": {},
   "source": [
    "<a name=\"Clustering\"> \n",
    "## Clustering by utilizing K-means\n",
    "</a>"
   ]
  },
  {
   "cell_type": "markdown",
   "metadata": {},
   "source": [
    "### Since our data set has 15 main categories, we will try and group these categories into clusters by considering the parameters \"Goal amount\" and \"Pledged sum\""
   ]
  },
  {
   "cell_type": "code",
   "execution_count": 35,
   "metadata": {},
   "outputs": [],
   "source": [
    "# to get a list of categories, we use sets in order to consider only unique values\n",
    "list_cat=list(set(df['main_category']))\n",
    "#To obtain sum of goal amount for each category\n",
    "goal_sum = {}\n",
    "for category in list(set(df['main_category'])): #set in order to show only unique values in main category\n",
    "    amount = df[df['main_category'] == category]['usd_goal_real'].sum()\n",
    "    goal_sum[category] = amount\n",
    "#creating new data frame\n",
    "df_cluster = pd.Series(goal_sum)\n",
    "df_cluster = pd.DataFrame(df_cluster) #Create dataframe\n",
    "df_cluster = df_cluster.rename(columns = {0:\"goal sum\"}) #Rename the column"
   ]
  },
  {
   "cell_type": "code",
   "execution_count": 36,
   "metadata": {},
   "outputs": [],
   "source": [
    "#To obtain sum of pledged amount for each category\n",
    "pledged_sum = {}\n",
    "for category in list(set(df['main_category'])): #set in order to show only unique values in main category\n",
    "    amount = df[df['main_category'] == category]['usd_pledged_real'].sum()\n",
    "    pledged_sum[category] = amount\n",
    "#creating new data frame\n",
    "df_cluster1 = pd.Series(pledged_sum)\n",
    "df_cluster1 = pd.DataFrame(df_cluster1) #Create dataframe\n",
    "df_cluster1 = df_cluster1.rename(columns = {0:\"pledged sum\"}) #Rename the column"
   ]
  },
  {
   "cell_type": "code",
   "execution_count": 37,
   "metadata": {},
   "outputs": [],
   "source": [
    "#data frame to use for clustering\n",
    "df_cluster['pledged sum']= pd.Series(pledged_sum)"
   ]
  },
  {
   "cell_type": "code",
   "execution_count": 38,
   "metadata": {},
   "outputs": [],
   "source": [
    "# Importing KMeans libraries\n",
    "from sklearn.cluster import KMeans"
   ]
  },
  {
   "cell_type": "code",
   "execution_count": 39,
   "metadata": {},
   "outputs": [
    {
     "data": {
      "text/plain": [
       "[5253729207.950001, 391555058.31]"
      ]
     },
     "execution_count": 39,
     "metadata": {},
     "output_type": "execute_result"
    }
   ],
   "source": [
    "#get one data point (i.e., row) from the dataframe\n",
    "rel_cols=['goal sum', 'pledged sum']\n",
    "df_cluster.loc[\"Film & Video\",rel_cols].tolist()"
   ]
  },
  {
   "cell_type": "code",
   "execution_count": 40,
   "metadata": {},
   "outputs": [
    {
     "data": {
      "image/png": "[encoded data removed]",
      "text/plain": [
       "<Figure size 432x288 with 1 Axes>"
      ]
     },
     "metadata": {},
     "output_type": "display_data"
    }
   ],
   "source": [
    "#Determining number of clusters\n",
    "nClusters=range(2,10)\n",
    "sumDistances=[]\n",
    "for n in nClusters:\n",
    "    kmeans=KMeans(n_clusters=n).fit(df_cluster[rel_cols])\n",
    "    sumDistances.append(kmeans.inertia_) #Proxy for SSE\n",
    "plt.plot(nClusters,sumDistances,'-')\n",
    "plt.xlabel('nClusters')\n",
    "plt.ylabel('Sum Of Distances')\n",
    "plt.show()"
   ]
  },
  {
   "cell_type": "markdown",
   "metadata": {},
   "source": [
    "### Since there are elbows in the graph at 3,4 and 5 we decided to choose and implement 3 clusters"
   ]
  },
  {
   "cell_type": "code",
   "execution_count": 41,
   "metadata": {},
   "outputs": [
    {
     "data": {
      "image/png": "[encoded data removed]",
      "text/plain": [
       "<Figure size 581.625x540 with 12 Axes>"
      ]
     },
     "metadata": {},
     "output_type": "display_data"
    }
   ],
   "source": [
    "#Implementing KMean-Clustering to cluster multiple categories based on Pledged Sum and Goal Amount.\n",
    "kmeans=KMeans(n_clusters=3).fit(df_cluster)\n",
    "df_cluster['Cluster']=kmeans.labels_\n",
    "g = sns.pairplot(df_cluster,hue='Cluster') #pair plot for pictorial representation of clusters\n"
   ]
  },
  {
   "cell_type": "markdown",
   "metadata": {},
   "source": [
    "** From the above pair-plot we can see that categories have been combined in a cluster of 3. The following output showcases different categories are combined 3 types of cluster.**"
   ]
  },
  {
   "cell_type": "code",
   "execution_count": 42,
   "metadata": {},
   "outputs": [
    {
     "data": {
      "text/html": [
       "<div>\n",
       "<style scoped>\n",
       "    .dataframe tbody tr th:only-of-type {\n",
       "        vertical-align: middle;\n",
       "    }\n",
       "\n",
       "    .dataframe tbody tr th {\n",
       "        vertical-align: top;\n",
       "    }\n",
       "\n",
       "    .dataframe thead th {\n",
       "        text-align: right;\n",
       "    }\n",
       "</style>\n",
       "<table border=\"1\" class=\"dataframe\">\n",
       "  <thead>\n",
       "    <tr style=\"text-align: right;\">\n",
       "      <th></th>\n",
       "      <th>goal sum</th>\n",
       "      <th>pledged sum</th>\n",
       "      <th>Cluster</th>\n",
       "    </tr>\n",
       "  </thead>\n",
       "  <tbody>\n",
       "    <tr>\n",
       "      <th>Photography</th>\n",
       "      <td>132224308.230</td>\n",
       "      <td>38501610.580</td>\n",
       "      <td>1</td>\n",
       "    </tr>\n",
       "    <tr>\n",
       "      <th>Dance</th>\n",
       "      <td>36128821.970</td>\n",
       "      <td>13010701.870</td>\n",
       "      <td>1</td>\n",
       "    </tr>\n",
       "    <tr>\n",
       "      <th>Art</th>\n",
       "      <td>1103557506.720</td>\n",
       "      <td>90680446.110</td>\n",
       "      <td>2</td>\n",
       "    </tr>\n",
       "    <tr>\n",
       "      <th>Fashion</th>\n",
       "      <td>511361531.990</td>\n",
       "      <td>130335278.340</td>\n",
       "      <td>1</td>\n",
       "    </tr>\n",
       "    <tr>\n",
       "      <th>Music</th>\n",
       "      <td>798091898.600</td>\n",
       "      <td>200318729.450</td>\n",
       "      <td>2</td>\n",
       "    </tr>\n",
       "    <tr>\n",
       "      <th>Technology</th>\n",
       "      <td>3331435551.710</td>\n",
       "      <td>688872493.680</td>\n",
       "      <td>0</td>\n",
       "    </tr>\n",
       "    <tr>\n",
       "      <th>Crafts</th>\n",
       "      <td>91917213.000</td>\n",
       "      <td>14384280.250</td>\n",
       "      <td>1</td>\n",
       "    </tr>\n",
       "    <tr>\n",
       "      <th>Film &amp; Video</th>\n",
       "      <td>5253729207.950</td>\n",
       "      <td>391555058.310</td>\n",
       "      <td>0</td>\n",
       "    </tr>\n",
       "    <tr>\n",
       "      <th>Publishing</th>\n",
       "      <td>988805031.870</td>\n",
       "      <td>133575983.280</td>\n",
       "      <td>2</td>\n",
       "    </tr>\n",
       "    <tr>\n",
       "      <th>Food</th>\n",
       "      <td>1206472751.020</td>\n",
       "      <td>125806502.350</td>\n",
       "      <td>2</td>\n",
       "    </tr>\n",
       "    <tr>\n",
       "      <th>Journalism</th>\n",
       "      <td>408946143.290</td>\n",
       "      <td>12437665.710</td>\n",
       "      <td>1</td>\n",
       "    </tr>\n",
       "    <tr>\n",
       "      <th>Comics</th>\n",
       "      <td>211743308.410</td>\n",
       "      <td>71518391.770</td>\n",
       "      <td>1</td>\n",
       "    </tr>\n",
       "    <tr>\n",
       "      <th>Design</th>\n",
       "      <td>1259072654.940</td>\n",
       "      <td>734220233.380</td>\n",
       "      <td>2</td>\n",
       "    </tr>\n",
       "    <tr>\n",
       "      <th>Theater</th>\n",
       "      <td>295614850.070</td>\n",
       "      <td>43716584.210</td>\n",
       "      <td>1</td>\n",
       "    </tr>\n",
       "    <tr>\n",
       "      <th>Games</th>\n",
       "      <td>1582708333.540</td>\n",
       "      <td>741327289.540</td>\n",
       "      <td>2</td>\n",
       "    </tr>\n",
       "  </tbody>\n",
       "</table>\n",
       "</div>"
      ],
      "text/plain": [
       "                   goal sum   pledged sum  Cluster\n",
       "Photography   132224308.230  38501610.580        1\n",
       "Dance          36128821.970  13010701.870        1\n",
       "Art          1103557506.720  90680446.110        2\n",
       "Fashion       511361531.990 130335278.340        1\n",
       "Music         798091898.600 200318729.450        2\n",
       "Technology   3331435551.710 688872493.680        0\n",
       "Crafts         91917213.000  14384280.250        1\n",
       "Film & Video 5253729207.950 391555058.310        0\n",
       "Publishing    988805031.870 133575983.280        2\n",
       "Food         1206472751.020 125806502.350        2\n",
       "Journalism    408946143.290  12437665.710        1\n",
       "Comics        211743308.410  71518391.770        1\n",
       "Design       1259072654.940 734220233.380        2\n",
       "Theater       295614850.070  43716584.210        1\n",
       "Games        1582708333.540 741327289.540        2"
      ]
     },
     "execution_count": 42,
     "metadata": {},
     "output_type": "execute_result"
    }
   ],
   "source": [
    "df_cluster"
   ]
  },
  {
   "cell_type": "markdown",
   "metadata": {},
   "source": [
    "### We have grouped the main categories into 3 clusters. For eg. photography,theatre belong to cluster 2, Music,Design belong to cluster 1 and so on."
   ]
  },
  {
   "cell_type": "markdown",
   "metadata": {},
   "source": [
    "<a name=\"Linear-Regression\"> \n",
    "## Linear Regression\n",
    "</a>"
   ]
  },
  {
   "cell_type": "markdown",
   "metadata": {},
   "source": [
    "**We use linear regression to establish a relationship between goal amount, pledged amount and number of backers. As these variables are numerical in nature, it makes sense to infer whether they have any co-relationship between them or not.**"
   ]
  },
  {
   "cell_type": "code",
   "execution_count": 43,
   "metadata": {},
   "outputs": [],
   "source": [
    "from sklearn import linear_model\n",
    "from sklearn.linear_model import LogisticRegression\n",
    "from sklearn.model_selection import train_test_split\n",
    "import statsmodels.formula.api as sm"
   ]
  },
  {
   "cell_type": "code",
   "execution_count": 44,
   "metadata": {},
   "outputs": [],
   "source": [
    "#Copying the original dataframe to a new dataframe\n",
    "data_linear=df.copy()\n",
    "\n",
    "#Dropping the columns which are not required\n",
    "data_linear=data_linear.drop(columns=['name','goal','pledged','usd pledged'])\n",
    "data_linear.index=data_linear.ID\n",
    "data_linear=data_linear.drop(columns=['ID'])\n"
   ]
  },
  {
   "cell_type": "code",
   "execution_count": 45,
   "metadata": {},
   "outputs": [
    {
     "data": {
      "image/png": "[encoded data removed]",
      "text/plain": [
       "<Figure size 504x504 with 2 Axes>"
      ]
     },
     "metadata": {},
     "output_type": "display_data"
    }
   ],
   "source": [
    "#Draw a heatmap to find the correlation between the key parameters ( backers, USD_pledge_real and USD_goal_real)\n",
    "\n",
    "plt.figure(figsize=(7,7))\n",
    "sns.heatmap(data_linear.corr(),cmap='coolwarm',annot=True)\n",
    "plt.show()"
   ]
  },
  {
   "cell_type": "code",
   "execution_count": 46,
   "metadata": {},
   "outputs": [],
   "source": [
    "data_linear.backers=data_linear.backers.astype(int)\n",
    "\n",
    "#After analysing the data, we decided to remove the outlier from the data\n",
    "data_linear=data_linear.loc[data_linear.backers<=np.percentile(data_linear.backers,99.9),:]\n",
    "data_linear=data_linear.loc[data_linear.usd_goal_real<=np.percentile(data_linear.usd_goal_real,99.9),:]\n",
    "data_linear=data_linear.loc[data_linear.usd_pledged_real<=np.percentile(data_linear.usd_pledged_real,99.9),:]\n",
    "\n",
    "#Restricting our data to Successful and failed projects\n",
    "data_linear=data_linear.loc[(data_linear['state']=='failed') | (data_linear['state']=='successful')]\n",
    "\n",
    "#subsetting data where we have backers\n",
    "backer_data=pd.DataFrame(data_linear[data_linear.backers>0])\n",
    "backer_data['pledge_ratio']=backer_data.usd_pledged_real/backer_data.backers\n"
   ]
  },
  {
   "cell_type": "code",
   "execution_count": 47,
   "metadata": {},
   "outputs": [
    {
     "data": {
      "text/plain": [
       "<seaborn.axisgrid.PairGrid at 0x1f405a262e8>"
      ]
     },
     "execution_count": 47,
     "metadata": {},
     "output_type": "execute_result"
    },
    {
     "data": {
      "image/png": "[encoded data removed]",
      "text/plain": [
       "<Figure size 720x720 with 20 Axes>"
      ]
     },
     "metadata": {},
     "output_type": "display_data"
    }
   ],
   "source": [
    "sns.pairplot(backer_data[['backers', 'usd_goal_real', 'usd_pledged_real', 'pledge_ratio']])"
   ]
  },
  {
   "cell_type": "markdown",
   "metadata": {},
   "source": [
    "*Backers appear to have a positive relationship  with USD_pledged_amount, we will first analyse it by using linear regression*"
   ]
  },
  {
   "cell_type": "code",
   "execution_count": 48,
   "metadata": {},
   "outputs": [
    {
     "name": "stdout",
     "output_type": "stream",
     "text": [
      "                       Results: Ordinary least squares\n",
      "==============================================================================\n",
      "Model:                OLS                   Adj. R-squared:       0.609       \n",
      "Dependent Variable:   backer_data.backers   AIC:                  3972890.1078\n",
      "Date:                 2018-07-21 06:28      BIC:                  3972932.4443\n",
      "No. Observations:     291889                Log-Likelihood:       -1.9864e+06 \n",
      "Df Model:             3                     F-statistic:          1.514e+05   \n",
      "Df Residuals:         291885                Prob (F-statistic):   0.00        \n",
      "R-squared:            0.609                 Scale:                47718.      \n",
      "------------------------------------------------------------------------------\n",
      "                              Coef.  Std.Err.     t     P>|t|   [0.025  0.975]\n",
      "------------------------------------------------------------------------------\n",
      "Intercept                    50.3260   0.4726  106.4809 0.0000 49.3997 51.2523\n",
      "backer_data.usd_goal_real    -0.0000   0.0000   -7.2446 0.0000 -0.0000 -0.0000\n",
      "backer_data.usd_pledged_real  0.0101   0.0000  672.8298 0.0000  0.0101  0.0102\n",
      "backer_data.pledge_ratio     -0.3766   0.0030 -123.6186 0.0000 -0.3826 -0.3706\n",
      "------------------------------------------------------------------------------\n",
      "Omnibus:              354998.062        Durbin-Watson:           1.997        \n",
      "Prob(Omnibus):        0.000             Jarque-Bera (JB):        334707777.504\n",
      "Skew:                 5.839             Prob(JB):                0.000        \n",
      "Kurtosis:             168.482           Condition No.:           103539       \n",
      "==============================================================================\n",
      "* The condition number is large (1e+05). This might indicate\n",
      "strong multicollinearity or other numerical problems.\n"
     ]
    }
   ],
   "source": [
    "result = sm.ols(formula=\"backer_data.backers ~ backer_data.usd_goal_real + backer_data.usd_pledged_real + backer_data.pledge_ratio\", data=backer_data).fit()\n",
    "print(result.summary2())\n"
   ]
  },
  {
   "cell_type": "markdown",
   "metadata": {},
   "source": [
    "**Even though backers have a positive relationship with USD_pledge amount, the relationship is not linear. We will therefore evaluate the log relationship**"
   ]
  },
  {
   "cell_type": "code",
   "execution_count": 49,
   "metadata": {},
   "outputs": [],
   "source": [
    "non_zero = backer_data[backer_data['usd_pledged_real'] != 0]\n",
    "\n",
    "X = backer_data['backers'].values\n",
    "Y = backer_data['usd_pledged_real'].values\n",
    "\n",
    "X = X.reshape(len(X),1)\n",
    "Y = Y.reshape(len(Y),1)"
   ]
  },
  {
   "cell_type": "code",
   "execution_count": 50,
   "metadata": {},
   "outputs": [
    {
     "data": {
      "image/png": "[encoded data removed]",
      "text/plain": [
       "<Figure size 432x288 with 1 Axes>"
      ]
     },
     "metadata": {},
     "output_type": "display_data"
    }
   ],
   "source": [
    "regression = linear_model.LinearRegression()\n",
    "regression.fit(np.log(X), np.log(Y))\n",
    "\n",
    "plt.scatter(np.log(X), np.log(Y))\n",
    "plt.xlabel('Log of backers')\n",
    "plt.ylabel('Log of USD_pledge amount')\n",
    "\n",
    "plt.plot(np.log(X), regression.predict(np.log(X)), color='red', linewidth=3)\n",
    "plt.show()"
   ]
  },
  {
   "cell_type": "markdown",
   "metadata": {},
   "source": [
    "*There is a linear relationship between log of backers and log of pledge amount where the rate of change is same for both*"
   ]
  },
  {
   "cell_type": "code",
   "execution_count": 51,
   "metadata": {
    "scrolled": true
   },
   "outputs": [
    {
     "name": "stdout",
     "output_type": "stream",
     "text": [
      "                           Results: Ordinary least squares\n",
      "======================================================================================\n",
      "Model:                 OLS                           Adj. R-squared:       0.838      \n",
      "Dependent Variable:    np.log(backer_data.backers)   AIC:                  656011.4477\n",
      "Date:                  2018-07-21 06:28              BIC:                  656032.6160\n",
      "No. Observations:      291889                        Log-Likelihood:       -3.2800e+05\n",
      "Df Model:              1                             F-statistic:          1.510e+06  \n",
      "Df Residuals:          291887                        Prob (F-statistic):   0.00       \n",
      "R-squared:             0.838                         Scale:                0.55410    \n",
      "--------------------------------------------------------------------------------------\n",
      "                                      Coef.  Std.Err.     t     P>|t|   [0.025  0.975]\n",
      "--------------------------------------------------------------------------------------\n",
      "Intercept                            -1.3438   0.0038 -355.8939 0.0000 -1.3512 -1.3364\n",
      "np.log(backer_data.usd_pledged_real)  0.6440   0.0005 1228.8738 0.0000  0.6430  0.6450\n",
      "--------------------------------------------------------------------------------------\n",
      "Omnibus:                   4134.158             Durbin-Watson:                1.997   \n",
      "Prob(Omnibus):             0.000                Jarque-Bera (JB):             6919.747\n",
      "Skew:                      -0.116               Prob(JB):                     0.000   \n",
      "Kurtosis:                  3.717                Condition No.:                20      \n",
      "======================================================================================\n",
      "\n"
     ]
    }
   ],
   "source": [
    "result = sm.ols(formula=\"np.log(backer_data.backers) ~ np.log(backer_data.usd_pledged_real)\", data=backer_data).fit()\n",
    "print(result.summary2())\n"
   ]
  },
  {
   "cell_type": "markdown",
   "metadata": {},
   "source": [
    "*From the above linear regression equation, we can infer that there seems to be a relation between the number of backer's and the amount they fund for the project.* **However to predict success based on these factors, we would utilize logistic regression to derive the favourable factors which would significantly affect the success of a product.**"
   ]
  },
  {
   "cell_type": "markdown",
   "metadata": {},
   "source": [
    "<a name=\"Logistic-Regression\"> \n",
    "## Logistic Regression\n",
    "</a>"
   ]
  },
  {
   "cell_type": "markdown",
   "metadata": {},
   "source": [
    "**Logistic Regression is a Machine Learning classification algorithm that is used to predict the probability of a categorical dependent variable. In logistic regression, the dependent variable is a binary variable that contains data coded as 1 (yes, success, etc.) or 0 (no, failure, etc.). In other words, the logistic regression model predicts P(Y=1) as a function of X.**"
   ]
  },
  {
   "cell_type": "code",
   "execution_count": 52,
   "metadata": {},
   "outputs": [],
   "source": [
    "from sklearn import preprocessing\n",
    "plt.rc(\"font\", size=14)\n",
    "sns.set(style=\"white\")\n",
    "sns.set(style=\"whitegrid\", color_codes=True)"
   ]
  },
  {
   "cell_type": "markdown",
   "metadata": {},
   "source": [
    "**The dataset provides the information on startups who have pitched on the Kickstarter.**\n",
    "**It includes 378,661 records and 15 fields.**"
   ]
  },
  {
   "cell_type": "code",
   "execution_count": 53,
   "metadata": {},
   "outputs": [
    {
     "data": {
      "text/plain": [
       "array(['failed', 'canceled', 'successful', 'live', 'undefined',\n",
       "       'suspended'], dtype=object)"
      ]
     },
     "execution_count": 53,
     "metadata": {},
     "output_type": "execute_result"
    }
   ],
   "source": [
    "data=df.copy() #Creating a copy of the master data-frame\n",
    "\n",
    "#Predict variable (desired target):\n",
    "\n",
    "#state — Will the startup have a successful launch (binary: “1”, means “Yes”, “0” means “No”)\n",
    "\n",
    "data['state'].unique() #Checking the various values of state"
   ]
  },
  {
   "cell_type": "code",
   "execution_count": 54,
   "metadata": {},
   "outputs": [
    {
     "data": {
      "text/plain": [
       "(331675, 19)"
      ]
     },
     "execution_count": 54,
     "metadata": {},
     "output_type": "execute_result"
    }
   ],
   "source": [
    "# Filtering the data to get only failed & successful launches \n",
    "data=data.loc[(data['state']=='failed') | (data['state']=='successful')]\n",
    "\n",
    "# Checking the shape of dataframe post filtering\n",
    "data.shape"
   ]
  },
  {
   "cell_type": "code",
   "execution_count": 55,
   "metadata": {},
   "outputs": [
    {
     "data": {
      "text/html": [
       "<div>\n",
       "<style scoped>\n",
       "    .dataframe tbody tr th:only-of-type {\n",
       "        vertical-align: middle;\n",
       "    }\n",
       "\n",
       "    .dataframe tbody tr th {\n",
       "        vertical-align: top;\n",
       "    }\n",
       "\n",
       "    .dataframe thead th {\n",
       "        text-align: right;\n",
       "    }\n",
       "</style>\n",
       "<table border=\"1\" class=\"dataframe\">\n",
       "  <thead>\n",
       "    <tr style=\"text-align: right;\">\n",
       "      <th></th>\n",
       "      <th>ID</th>\n",
       "      <th>goal</th>\n",
       "      <th>pledged</th>\n",
       "      <th>backers</th>\n",
       "      <th>usd pledged</th>\n",
       "      <th>usd_pledged_real</th>\n",
       "      <th>usd_goal_real</th>\n",
       "      <th>length_days</th>\n",
       "    </tr>\n",
       "    <tr>\n",
       "      <th>state</th>\n",
       "      <th></th>\n",
       "      <th></th>\n",
       "      <th></th>\n",
       "      <th></th>\n",
       "      <th></th>\n",
       "      <th></th>\n",
       "      <th></th>\n",
       "      <th></th>\n",
       "    </tr>\n",
       "  </thead>\n",
       "  <tbody>\n",
       "    <tr>\n",
       "      <th>failed</th>\n",
       "      <td>1074638761.485</td>\n",
       "      <td>67346.846</td>\n",
       "      <td>1426.971</td>\n",
       "      <td>16.422</td>\n",
       "      <td>1133.741</td>\n",
       "      <td>1320.604</td>\n",
       "      <td>63174.742</td>\n",
       "      <td>35.173</td>\n",
       "    </tr>\n",
       "    <tr>\n",
       "      <th>successful</th>\n",
       "      <td>1073727308.414</td>\n",
       "      <td>10162.961</td>\n",
       "      <td>24099.779</td>\n",
       "      <td>263.921</td>\n",
       "      <td>17356.034</td>\n",
       "      <td>22670.795</td>\n",
       "      <td>9532.853</td>\n",
       "      <td>32.156</td>\n",
       "    </tr>\n",
       "  </tbody>\n",
       "</table>\n",
       "</div>"
      ],
      "text/plain": [
       "                       ID      goal   pledged  backers  usd pledged  \\\n",
       "state                                                                 \n",
       "failed     1074638761.485 67346.846  1426.971   16.422     1133.741   \n",
       "successful 1073727308.414 10162.961 24099.779  263.921    17356.034   \n",
       "\n",
       "            usd_pledged_real  usd_goal_real  length_days  \n",
       "state                                                     \n",
       "failed              1320.604      63174.742       35.173  \n",
       "successful         22670.795       9532.853       32.156  "
      ]
     },
     "execution_count": 55,
     "metadata": {},
     "output_type": "execute_result"
    }
   ],
   "source": [
    "data.groupby('state').mean()"
   ]
  },
  {
   "cell_type": "markdown",
   "metadata": {},
   "source": [
    "**Observations**\n",
    "\n",
    "Successful launches have small goal amount\n",
    "\n",
    "Successful launches get more pledged amount compared to failed launches \n",
    "\n",
    "Successful launches have more backers "
   ]
  },
  {
   "cell_type": "markdown",
   "metadata": {},
   "source": [
    "**Calculating categorical means for other categorical variables such as category, main category and country to get a more detailed sense of our data.**"
   ]
  },
  {
   "cell_type": "code",
   "execution_count": 56,
   "metadata": {},
   "outputs": [
    {
     "data": {
      "text/html": [
       "<div>\n",
       "<style scoped>\n",
       "    .dataframe tbody tr th:only-of-type {\n",
       "        vertical-align: middle;\n",
       "    }\n",
       "\n",
       "    .dataframe tbody tr th {\n",
       "        vertical-align: top;\n",
       "    }\n",
       "\n",
       "    .dataframe thead th {\n",
       "        text-align: right;\n",
       "    }\n",
       "</style>\n",
       "<table border=\"1\" class=\"dataframe\">\n",
       "  <thead>\n",
       "    <tr style=\"text-align: right;\">\n",
       "      <th></th>\n",
       "      <th>ID</th>\n",
       "      <th>goal</th>\n",
       "      <th>pledged</th>\n",
       "      <th>backers</th>\n",
       "      <th>usd pledged</th>\n",
       "      <th>usd_pledged_real</th>\n",
       "      <th>usd_goal_real</th>\n",
       "      <th>length_days</th>\n",
       "    </tr>\n",
       "    <tr>\n",
       "      <th>category</th>\n",
       "      <th></th>\n",
       "      <th></th>\n",
       "      <th></th>\n",
       "      <th></th>\n",
       "      <th></th>\n",
       "      <th></th>\n",
       "      <th></th>\n",
       "      <th></th>\n",
       "    </tr>\n",
       "  </thead>\n",
       "  <tbody>\n",
       "    <tr>\n",
       "      <th>3D Printing</th>\n",
       "      <td>1070278283.178</td>\n",
       "      <td>47421.033</td>\n",
       "      <td>82752.459</td>\n",
       "      <td>272.673</td>\n",
       "      <td>60146.108</td>\n",
       "      <td>76876.211</td>\n",
       "      <td>45830.955</td>\n",
       "      <td>33.690</td>\n",
       "    </tr>\n",
       "    <tr>\n",
       "      <th>Academic</th>\n",
       "      <td>1095291461.732</td>\n",
       "      <td>59660.049</td>\n",
       "      <td>4476.899</td>\n",
       "      <td>47.981</td>\n",
       "      <td>1631.837</td>\n",
       "      <td>3357.814</td>\n",
       "      <td>56981.241</td>\n",
       "      <td>34.584</td>\n",
       "    </tr>\n",
       "    <tr>\n",
       "      <th>Accessories</th>\n",
       "      <td>1069988968.584</td>\n",
       "      <td>18716.091</td>\n",
       "      <td>9041.776</td>\n",
       "      <td>90.173</td>\n",
       "      <td>4880.944</td>\n",
       "      <td>7279.239</td>\n",
       "      <td>14201.602</td>\n",
       "      <td>31.100</td>\n",
       "    </tr>\n",
       "    <tr>\n",
       "      <th>Action</th>\n",
       "      <td>1070996525.201</td>\n",
       "      <td>375217.768</td>\n",
       "      <td>4252.099</td>\n",
       "      <td>54.155</td>\n",
       "      <td>3378.630</td>\n",
       "      <td>4255.229</td>\n",
       "      <td>351325.126</td>\n",
       "      <td>35.182</td>\n",
       "    </tr>\n",
       "    <tr>\n",
       "      <th>Animals</th>\n",
       "      <td>1164132171.345</td>\n",
       "      <td>8653.738</td>\n",
       "      <td>2838.373</td>\n",
       "      <td>43.231</td>\n",
       "      <td>2405.708</td>\n",
       "      <td>3111.532</td>\n",
       "      <td>7719.283</td>\n",
       "      <td>31.319</td>\n",
       "    </tr>\n",
       "  </tbody>\n",
       "</table>\n",
       "</div>"
      ],
      "text/plain": [
       "                        ID       goal   pledged  backers  usd pledged  \\\n",
       "category                                                                \n",
       "3D Printing 1070278283.178  47421.033 82752.459  272.673    60146.108   \n",
       "Academic    1095291461.732  59660.049  4476.899   47.981     1631.837   \n",
       "Accessories 1069988968.584  18716.091  9041.776   90.173     4880.944   \n",
       "Action      1070996525.201 375217.768  4252.099   54.155     3378.630   \n",
       "Animals     1164132171.345   8653.738  2838.373   43.231     2405.708   \n",
       "\n",
       "             usd_pledged_real  usd_goal_real  length_days  \n",
       "category                                                   \n",
       "3D Printing         76876.211      45830.955       33.690  \n",
       "Academic             3357.814      56981.241       34.584  \n",
       "Accessories          7279.239      14201.602       31.100  \n",
       "Action               4255.229     351325.126       35.182  \n",
       "Animals              3111.532       7719.283       31.319  "
      ]
     },
     "execution_count": 56,
     "metadata": {},
     "output_type": "execute_result"
    }
   ],
   "source": [
    "data.groupby('category').mean().head()"
   ]
  },
  {
   "cell_type": "code",
   "execution_count": 57,
   "metadata": {},
   "outputs": [
    {
     "data": {
      "text/html": [
       "<div>\n",
       "<style scoped>\n",
       "    .dataframe tbody tr th:only-of-type {\n",
       "        vertical-align: middle;\n",
       "    }\n",
       "\n",
       "    .dataframe tbody tr th {\n",
       "        vertical-align: top;\n",
       "    }\n",
       "\n",
       "    .dataframe thead th {\n",
       "        text-align: right;\n",
       "    }\n",
       "</style>\n",
       "<table border=\"1\" class=\"dataframe\">\n",
       "  <thead>\n",
       "    <tr style=\"text-align: right;\">\n",
       "      <th></th>\n",
       "      <th>ID</th>\n",
       "      <th>goal</th>\n",
       "      <th>pledged</th>\n",
       "      <th>backers</th>\n",
       "      <th>usd pledged</th>\n",
       "      <th>usd_pledged_real</th>\n",
       "      <th>usd_goal_real</th>\n",
       "      <th>length_days</th>\n",
       "    </tr>\n",
       "    <tr>\n",
       "      <th>main_category</th>\n",
       "      <th></th>\n",
       "      <th></th>\n",
       "      <th></th>\n",
       "      <th></th>\n",
       "      <th></th>\n",
       "      <th></th>\n",
       "      <th></th>\n",
       "      <th></th>\n",
       "    </tr>\n",
       "  </thead>\n",
       "  <tbody>\n",
       "    <tr>\n",
       "      <th>Art</th>\n",
       "      <td>1075395369.998</td>\n",
       "      <td>40916.308</td>\n",
       "      <td>3880.154</td>\n",
       "      <td>45.422</td>\n",
       "      <td>2738.786</td>\n",
       "      <td>3474.077</td>\n",
       "      <td>39432.141</td>\n",
       "      <td>32.333</td>\n",
       "    </tr>\n",
       "    <tr>\n",
       "      <th>Comics</th>\n",
       "      <td>1062186861.382</td>\n",
       "      <td>20883.199</td>\n",
       "      <td>7458.192</td>\n",
       "      <td>145.608</td>\n",
       "      <td>5783.516</td>\n",
       "      <td>7147.216</td>\n",
       "      <td>20192.217</td>\n",
       "      <td>33.847</td>\n",
       "    </tr>\n",
       "    <tr>\n",
       "      <th>Crafts</th>\n",
       "      <td>1076182288.586</td>\n",
       "      <td>11002.815</td>\n",
       "      <td>2203.499</td>\n",
       "      <td>29.851</td>\n",
       "      <td>1288.950</td>\n",
       "      <td>1784.832</td>\n",
       "      <td>9954.615</td>\n",
       "      <td>31.447</td>\n",
       "    </tr>\n",
       "    <tr>\n",
       "      <th>Dance</th>\n",
       "      <td>1074921610.040</td>\n",
       "      <td>8999.652</td>\n",
       "      <td>3861.714</td>\n",
       "      <td>44.790</td>\n",
       "      <td>3101.018</td>\n",
       "      <td>3612.684</td>\n",
       "      <td>8332.163</td>\n",
       "      <td>32.813</td>\n",
       "    </tr>\n",
       "    <tr>\n",
       "      <th>Design</th>\n",
       "      <td>1078731277.122</td>\n",
       "      <td>42462.212</td>\n",
       "      <td>30739.555</td>\n",
       "      <td>274.142</td>\n",
       "      <td>19487.788</td>\n",
       "      <td>27804.649</td>\n",
       "      <td>38236.995</td>\n",
       "      <td>34.139</td>\n",
       "    </tr>\n",
       "  </tbody>\n",
       "</table>\n",
       "</div>"
      ],
      "text/plain": [
       "                          ID      goal   pledged  backers  usd pledged  \\\n",
       "main_category                                                            \n",
       "Art           1075395369.998 40916.308  3880.154   45.422     2738.786   \n",
       "Comics        1062186861.382 20883.199  7458.192  145.608     5783.516   \n",
       "Crafts        1076182288.586 11002.815  2203.499   29.851     1288.950   \n",
       "Dance         1074921610.040  8999.652  3861.714   44.790     3101.018   \n",
       "Design        1078731277.122 42462.212 30739.555  274.142    19487.788   \n",
       "\n",
       "               usd_pledged_real  usd_goal_real  length_days  \n",
       "main_category                                                \n",
       "Art                    3474.077      39432.141       32.333  \n",
       "Comics                 7147.216      20192.217       33.847  \n",
       "Crafts                 1784.832       9954.615       31.447  \n",
       "Dance                  3612.684       8332.163       32.813  \n",
       "Design                27804.649      38236.995       34.139  "
      ]
     },
     "execution_count": 57,
     "metadata": {},
     "output_type": "execute_result"
    }
   ],
   "source": [
    "data.groupby('main_category').mean().head()"
   ]
  },
  {
   "cell_type": "code",
   "execution_count": 58,
   "metadata": {},
   "outputs": [
    {
     "data": {
      "text/html": [
       "<div>\n",
       "<style scoped>\n",
       "    .dataframe tbody tr th:only-of-type {\n",
       "        vertical-align: middle;\n",
       "    }\n",
       "\n",
       "    .dataframe tbody tr th {\n",
       "        vertical-align: top;\n",
       "    }\n",
       "\n",
       "    .dataframe thead th {\n",
       "        text-align: right;\n",
       "    }\n",
       "</style>\n",
       "<table border=\"1\" class=\"dataframe\">\n",
       "  <thead>\n",
       "    <tr style=\"text-align: right;\">\n",
       "      <th></th>\n",
       "      <th>ID</th>\n",
       "      <th>goal</th>\n",
       "      <th>pledged</th>\n",
       "      <th>backers</th>\n",
       "      <th>usd pledged</th>\n",
       "      <th>usd_pledged_real</th>\n",
       "      <th>usd_goal_real</th>\n",
       "      <th>length_days</th>\n",
       "    </tr>\n",
       "    <tr>\n",
       "      <th>country</th>\n",
       "      <th></th>\n",
       "      <th></th>\n",
       "      <th></th>\n",
       "      <th></th>\n",
       "      <th></th>\n",
       "      <th></th>\n",
       "      <th></th>\n",
       "      <th></th>\n",
       "    </tr>\n",
       "  </thead>\n",
       "  <tbody>\n",
       "    <tr>\n",
       "      <th>AT</th>\n",
       "      <td>1110673440.988</td>\n",
       "      <td>37747.532</td>\n",
       "      <td>16604.741</td>\n",
       "      <td>128.604</td>\n",
       "      <td>6190.081</td>\n",
       "      <td>18870.281</td>\n",
       "      <td>42129.541</td>\n",
       "      <td>34.823</td>\n",
       "    </tr>\n",
       "    <tr>\n",
       "      <th>AU</th>\n",
       "      <td>1070940018.131</td>\n",
       "      <td>69311.941</td>\n",
       "      <td>8264.504</td>\n",
       "      <td>90.063</td>\n",
       "      <td>4258.145</td>\n",
       "      <td>6512.738</td>\n",
       "      <td>55530.701</td>\n",
       "      <td>33.214</td>\n",
       "    </tr>\n",
       "    <tr>\n",
       "      <th>BE</th>\n",
       "      <td>1100032409.296</td>\n",
       "      <td>31735.987</td>\n",
       "      <td>6998.398</td>\n",
       "      <td>61.860</td>\n",
       "      <td>4202.454</td>\n",
       "      <td>7807.063</td>\n",
       "      <td>35489.433</td>\n",
       "      <td>35.040</td>\n",
       "    </tr>\n",
       "    <tr>\n",
       "      <th>CA</th>\n",
       "      <td>1078053786.769</td>\n",
       "      <td>54997.416</td>\n",
       "      <td>8582.204</td>\n",
       "      <td>99.522</td>\n",
       "      <td>5295.443</td>\n",
       "      <td>6943.615</td>\n",
       "      <td>44816.032</td>\n",
       "      <td>33.905</td>\n",
       "    </tr>\n",
       "    <tr>\n",
       "      <th>CH</th>\n",
       "      <td>1052995827.828</td>\n",
       "      <td>297014.121</td>\n",
       "      <td>18720.619</td>\n",
       "      <td>98.376</td>\n",
       "      <td>7168.521</td>\n",
       "      <td>19004.919</td>\n",
       "      <td>306681.807</td>\n",
       "      <td>35.314</td>\n",
       "    </tr>\n",
       "  </tbody>\n",
       "</table>\n",
       "</div>"
      ],
      "text/plain": [
       "                    ID       goal   pledged  backers  usd pledged  \\\n",
       "country                                                             \n",
       "AT      1110673440.988  37747.532 16604.741  128.604     6190.081   \n",
       "AU      1070940018.131  69311.941  8264.504   90.063     4258.145   \n",
       "BE      1100032409.296  31735.987  6998.398   61.860     4202.454   \n",
       "CA      1078053786.769  54997.416  8582.204   99.522     5295.443   \n",
       "CH      1052995827.828 297014.121 18720.619   98.376     7168.521   \n",
       "\n",
       "         usd_pledged_real  usd_goal_real  length_days  \n",
       "country                                                \n",
       "AT              18870.281      42129.541       34.823  \n",
       "AU               6512.738      55530.701       33.214  \n",
       "BE               7807.063      35489.433       35.040  \n",
       "CA               6943.615      44816.032       33.905  \n",
       "CH              19004.919     306681.807       35.314  "
      ]
     },
     "execution_count": 58,
     "metadata": {},
     "output_type": "execute_result"
    }
   ],
   "source": [
    "data.groupby('country').mean().head()"
   ]
  },
  {
   "cell_type": "code",
   "execution_count": 59,
   "metadata": {},
   "outputs": [],
   "source": [
    "# Dropping a few columns which are not relevant which is obatined throgh the EDA carried out above\n",
    "data=data.drop(columns=['name','pledged','usd pledged','currency'])"
   ]
  },
  {
   "cell_type": "markdown",
   "metadata": {},
   "source": [
    "**Changing the datatype of columns containing dates to get the duration of each campaign**"
   ]
  },
  {
   "cell_type": "code",
   "execution_count": 60,
   "metadata": {
    "scrolled": false
   },
   "outputs": [
    {
     "name": "stderr",
     "output_type": "stream",
     "text": [
      "C:\\Users\\Yuvraj\\Anaconda3\\lib\\site-packages\\ipykernel_launcher.py:7: SettingWithCopyWarning:\n",
      "\n",
      "\n",
      "A value is trying to be set on a copy of a slice from a DataFrame\n",
      "\n",
      "See the caveats in the documentation: http://pandas.pydata.org/pandas-docs/stable/indexing.html#indexing-view-versus-copy\n",
      "\n",
      "C:\\Users\\Yuvraj\\Anaconda3\\lib\\site-packages\\ipykernel_launcher.py:8: SettingWithCopyWarning:\n",
      "\n",
      "\n",
      "A value is trying to be set on a copy of a slice from a DataFrame\n",
      "\n",
      "See the caveats in the documentation: http://pandas.pydata.org/pandas-docs/stable/indexing.html#indexing-view-versus-copy\n",
      "\n"
     ]
    }
   ],
   "source": [
    "data['launched'] = pd.to_datetime(data['launched']) #Changing the column to datetime format\n",
    "data['launched']=pd.DatetimeIndex(data['launched']).normalize() #Normalizing the column for uniform formatting\n",
    "data['deadline'] = pd.to_datetime(data['deadline']) #Changimg the column to datetime format\n",
    "data['duration'] = data['deadline'] - data['launched'] # Calculating the duration of campaign\n",
    "\n",
    "# Changing the target variable(State) to binary values\n",
    "data.state[data['state'] == 'failed'] = 0.0\n",
    "data.state[data['state'] == 'successful'] = 1.0\n",
    "\n",
    "data.state=pd.to_numeric(data.state)\n",
    "\n",
    "# Based on the EDA we have filtered the data for columns which have maximum impact on the outcome\n",
    "data = data[['state', 'main_category', 'country', 'usd_goal_real','launched_month']]\n",
    "\n",
    "# Carrying out Log Transformations on the USD Goal Real column as the data in this column has Wide Distribution of data\n",
    "data['usd_goal_real'] = np.log(data['usd_goal_real'])"
   ]
  },
  {
   "cell_type": "markdown",
   "metadata": {},
   "source": [
    "## Creating dummy variables"
   ]
  },
  {
   "cell_type": "code",
   "execution_count": 61,
   "metadata": {},
   "outputs": [],
   "source": [
    "data = pd.get_dummies(data)\n",
    "data_size_time=data.copy() #Create a new data-frame which would be used to time the code when data-size increases"
   ]
  },
  {
   "cell_type": "markdown",
   "metadata": {},
   "source": [
    "**Final Data Columns are defined below** "
   ]
  },
  {
   "cell_type": "code",
   "execution_count": 62,
   "metadata": {},
   "outputs": [],
   "source": [
    "data_final_vars=data.columns.values.tolist()\n",
    "y=['state']\n",
    "X=[i for i in data_final_vars if i not in ['state']]"
   ]
  },
  {
   "cell_type": "markdown",
   "metadata": {},
   "source": [
    "## Feature Selection"
   ]
  },
  {
   "cell_type": "markdown",
   "metadata": {},
   "source": [
    "**Recursive Feature Elimination (RFE) is based on the idea to repeatedly construct a model and choose either the best or worst performing feature, setting the feature aside and then repeating the process with the rest of the features. In this process, each variable is chosen and checked whether the variable is significant in comparison to the dependent variable. If the chosen variable is significant, it is kept in the regression model. This process is applied until all features in the dataset are exhausted. The goal of RFE is to select features by recursively considering smaller and smaller sets of features.**"
   ]
  },
  {
   "cell_type": "code",
   "execution_count": 66,
   "metadata": {
    "scrolled": true
   },
   "outputs": [
    {
     "name": "stderr",
     "output_type": "stream",
     "text": [
      "C:\\Users\\Yuvraj\\Anaconda3\\lib\\site-packages\\sklearn\\utils\\validation.py:578: DataConversionWarning:\n",
      "\n",
      "A column-vector y was passed when a 1d array was expected. Please change the shape of y to (n_samples, ), for example using ravel().\n",
      "\n"
     ]
    },
    {
     "name": "stdout",
     "output_type": "stream",
     "text": [
      "[False False  True  True  True False  True False  True False  True False\n",
      "  True  True  True  True False False False False False False  True False\n",
      "  True  True  True False  True False False False  True False False False\n",
      " False  True  True False False False False False False False False False\n",
      " False False False]\n",
      "Duration: 55.90792155265808\n"
     ]
    }
   ],
   "source": [
    "from sklearn import datasets\n",
    "from sklearn.feature_selection import RFE\n",
    "\n",
    "start=time.time() #Using start time to time the entire piece of RFE code\n",
    "logreg = LogisticRegression()\n",
    "rfe = RFE(logreg, 18)\n",
    "rfe = rfe.fit(data[X], data[y] )\n",
    "print(rfe.support_)\n",
    "\n",
    "print(\"Duration: \"+str(time.time()-start)) #Prints the duration of the time taken to run the code\n"
   ]
  },
  {
   "cell_type": "markdown",
   "metadata": {},
   "source": [
    "** On the basis of the above support matrix, we get to know which of the variables are important to measure the success.**"
   ]
  },
  {
   "cell_type": "code",
   "execution_count": 67,
   "metadata": {},
   "outputs": [],
   "source": [
    "#Introdoucing an intercept in the dataset\n",
    "data['intercept'] = 1"
   ]
  },
  {
   "cell_type": "markdown",
   "metadata": {},
   "source": [
    "**The RFE has helped us select the following features**"
   ]
  },
  {
   "cell_type": "code",
   "execution_count": 68,
   "metadata": {},
   "outputs": [],
   "source": [
    "cols = ['intercept','usd_goal_real',\n",
    "'main_category_Comics',\n",
    "'main_category_Crafts',\n",
    "'main_category_Fashion',\n",
    "'main_category_Food',\n",
    "'main_category_Music',\n",
    "'main_category_Photography',\n",
    "'main_category_Publishing',\n",
    "'main_category_Technology',\n",
    "'main_category_Theater',\n",
    "'country_CA',\n",
    "'country_GB',\n",
    "'country_US',\n",
    "'launched_month_01',\n",
    "'launched_month_06',\n",
    "'launched_month_07',\n",
    "'launched_month_08',\n",
    "'launched_month_12']\n"
   ]
  },
  {
   "cell_type": "code",
   "execution_count": 69,
   "metadata": {},
   "outputs": [],
   "source": [
    "#Creating the data sets which will feed into the model\n",
    "X=data[cols]\n",
    "y=data['state']"
   ]
  },
  {
   "cell_type": "markdown",
   "metadata": {},
   "source": [
    "## Implementing the model"
   ]
  },
  {
   "cell_type": "code",
   "execution_count": 70,
   "metadata": {},
   "outputs": [
    {
     "name": "stdout",
     "output_type": "stream",
     "text": [
      "Optimization terminated successfully.\n",
      "         Current function value: 0.628549\n",
      "         Iterations 5\n",
      "                           Logit Regression Results                           \n",
      "==============================================================================\n",
      "Dep. Variable:                  state   No. Observations:               331675\n",
      "Model:                          Logit   Df Residuals:                   331656\n",
      "Method:                           MLE   Df Model:                           18\n",
      "Date:                Sat, 21 Jul 2018   Pseudo R-squ.:                 0.06820\n",
      "Time:                        06:33:04   Log-Likelihood:            -2.0847e+05\n",
      "converged:                       True   LL-Null:                   -2.2373e+05\n",
      "                                        LLR p-value:                     0.000\n",
      "=============================================================================================\n",
      "                                coef    std err          z      P>|z|      [0.025      0.975]\n",
      "---------------------------------------------------------------------------------------------\n",
      "intercept                     1.8418      0.025     73.115      0.000       1.792       1.891\n",
      "usd_goal_real                -0.2839      0.002   -116.600      0.000      -0.289      -0.279\n",
      "main_category_Comics          0.5006      0.022     23.140      0.000       0.458       0.543\n",
      "main_category_Crafts         -1.0087      0.027    -37.664      0.000      -1.061      -0.956\n",
      "main_category_Fashion        -0.6829      0.017    -40.036      0.000      -0.716      -0.649\n",
      "main_category_Food           -0.6132      0.017    -37.158      0.000      -0.646      -0.581\n",
      "main_category_Music           0.2667      0.011     24.145      0.000       0.245       0.288\n",
      "main_category_Photography    -0.5044      0.023    -22.297      0.000      -0.549      -0.460\n",
      "main_category_Publishing     -0.4517      0.013    -35.646      0.000      -0.477      -0.427\n",
      "main_category_Technology     -0.5901      0.016    -37.409      0.000      -0.621      -0.559\n",
      "main_category_Theater         0.7257      0.022     33.463      0.000       0.683       0.768\n",
      "country_CA                    0.0965      0.024      4.003      0.000       0.049       0.144\n",
      "country_GB                    0.3436      0.018     18.618      0.000       0.307       0.380\n",
      "country_US                    0.4356      0.014     30.560      0.000       0.408       0.464\n",
      "launched_month_01            -0.1685      0.015    -11.591      0.000      -0.197      -0.140\n",
      "launched_month_06            -0.0565      0.013     -4.216      0.000      -0.083      -0.030\n",
      "launched_month_07            -0.2784      0.013    -21.280      0.000      -0.304      -0.253\n",
      "launched_month_08            -0.1706      0.014    -12.513      0.000      -0.197      -0.144\n",
      "launched_month_12            -0.2056      0.017    -12.354      0.000      -0.238      -0.173\n",
      "=============================================================================================\n"
     ]
    }
   ],
   "source": [
    "logit_model=sm.Logit(y,X)\n",
    "result=logit_model.fit()\n",
    "print(result.summary())"
   ]
  },
  {
   "cell_type": "markdown",
   "metadata": {},
   "source": [
    "**The p-values for all of the variables are smaller than 0.05, therefore, all of them are significant to the model.**"
   ]
  },
  {
   "cell_type": "markdown",
   "metadata": {},
   "source": [
    "*Now let us try to fit our regression model by training on a subset of the complete data and testing the results*"
   ]
  },
  {
   "cell_type": "markdown",
   "metadata": {},
   "source": [
    "## Logistic Regression Model Fitting"
   ]
  },
  {
   "cell_type": "code",
   "execution_count": 71,
   "metadata": {},
   "outputs": [
    {
     "data": {
      "text/plain": [
       "LogisticRegression(C=1.0, class_weight=None, dual=False, fit_intercept=True,\n",
       "          intercept_scaling=1, max_iter=100, multi_class='ovr', n_jobs=1,\n",
       "          penalty='l2', random_state=None, solver='liblinear', tol=0.0001,\n",
       "          verbose=0, warm_start=False)"
      ]
     },
     "execution_count": 71,
     "metadata": {},
     "output_type": "execute_result"
    }
   ],
   "source": [
    "from sklearn import metrics\n",
    "X_train, X_test, y_train, y_test = train_test_split(X, y, test_size=0.3, random_state=0) #Taken test size as 30% of the complete data\n",
    "logreg = LogisticRegression()\n",
    "logreg.fit(X_train, y_train)"
   ]
  },
  {
   "cell_type": "markdown",
   "metadata": {},
   "source": [
    "## Predicting the test set results and calculating the accuracy"
   ]
  },
  {
   "cell_type": "code",
   "execution_count": 72,
   "metadata": {},
   "outputs": [
    {
     "name": "stdout",
     "output_type": "stream",
     "text": [
      "Accuracy of logistic regression classifier on test set: 64.21\n"
     ]
    }
   ],
   "source": [
    "y_pred = logreg.predict(X_test)\n",
    "print('Accuracy of logistic regression classifier on test set: {:.2f}'.format(logreg.score(X_test, y_test)*100))"
   ]
  },
  {
   "cell_type": "markdown",
   "metadata": {},
   "source": [
    "*This showcases that the accuracy of the logistic regression classifier we created to predict the success of a product by analyzing the various independent variables is 64%.*"
   ]
  },
  {
   "cell_type": "markdown",
   "metadata": {},
   "source": [
    "**Let's validate whether the accuracy predicted by our model is actually 64% or not as per the following methods**"
   ]
  },
  {
   "cell_type": "markdown",
   "metadata": {},
   "source": [
    "## Cross Validation"
   ]
  },
  {
   "cell_type": "markdown",
   "metadata": {},
   "source": [
    "**Cross validation attempts to avoid overfitting while still producing a prediction for each observation dataset. We are using 10-fold Cross-Validation to train our Logistic Regression model.**"
   ]
  },
  {
   "cell_type": "code",
   "execution_count": 73,
   "metadata": {},
   "outputs": [
    {
     "name": "stdout",
     "output_type": "stream",
     "text": [
      "10-fold cross validation average accuracy: 64.004\n"
     ]
    }
   ],
   "source": [
    "from sklearn import model_selection\n",
    "from sklearn.model_selection import cross_val_score\n",
    "kfold = model_selection.KFold(n_splits=10, random_state=7)\n",
    "modelCV = LogisticRegression()\n",
    "scoring = 'accuracy'\n",
    "results = model_selection.cross_val_score(modelCV, X_train, y_train, cv=kfold, scoring=scoring)\n",
    "print(\"10-fold cross validation average accuracy: %.3f\" % (results.mean()*100))"
   ]
  },
  {
   "cell_type": "markdown",
   "metadata": {},
   "source": [
    "*The average accuracy of 10-fold cross validation method denotes that 64% of the time we are not overfitting the data. Also, this accuracy is similar to the overall logisitic regression which shows that we have a strong model and prediction can be done fairly well with approximately 64% accuracy.*"
   ]
  },
  {
   "cell_type": "markdown",
   "metadata": {},
   "source": [
    "## Confusion Matrix"
   ]
  },
  {
   "cell_type": "markdown",
   "metadata": {},
   "source": [
    "**Compute confusion matrix to evaluate the accuracy of a classification**\n",
    "\n",
    "**By definition a confusion matrix C is such that C_{i, j} is equal to the number of observations known to be in group i but predicted to be in group j.**\n",
    "\n",
    "**Thus in binary classification, the count of true negatives is C_{0,0}, false negatives is C_{1,0}, true positives is C_{1,1} and false positives is C_{0,1}.**"
   ]
  },
  {
   "cell_type": "code",
   "execution_count": 74,
   "metadata": {},
   "outputs": [
    {
     "name": "stdout",
     "output_type": "stream",
     "text": [
      "[[48342 11160]\n",
      " [24452 15549]]\n"
     ]
    }
   ],
   "source": [
    "from sklearn.metrics import confusion_matrix\n",
    "confusion_matrix = confusion_matrix(y_test, y_pred)\n",
    "print(confusion_matrix)"
   ]
  },
  {
   "cell_type": "markdown",
   "metadata": {},
   "source": [
    "*The confusion matrix denotes that overall 63,891 predictions (Sum of 48,342 & 15,549) were correct and 35,612 (Sum of 24,452 & 11,160) predictions were incorrect. This showcases that the predictions were accurate 64.3% of the times.*"
   ]
  },
  {
   "cell_type": "markdown",
   "metadata": {},
   "source": [
    "**Both the validation methods reiterates the fact that our prediction model predicts with an accuracy of 64%**"
   ]
  },
  {
   "cell_type": "markdown",
   "metadata": {},
   "source": [
    "## Computing precision, recall, F-measure and support to test model"
   ]
  },
  {
   "cell_type": "markdown",
   "metadata": {},
   "source": [
    "**The precision is the ratio tp / (tp + fp) where tp is the number of true positives and fp the number of false positives. The precision is intuitively the ability of the classifier to not label a sample as positive if it is negative.**\n",
    "\n",
    "**The recall is the ratio tp / (tp + fn) where tp is the number of true positives and fn the number of false negatives. The recall is intuitively the ability of the classifier to find all the positive samples.**\n",
    "\n",
    "**The F-beta score can be interpreted as a weighted harmonic mean of the precision and recall, where an F-beta score reaches its best value at 1 and worst score at 0.**"
   ]
  },
  {
   "cell_type": "code",
   "execution_count": 75,
   "metadata": {
    "scrolled": true
   },
   "outputs": [
    {
     "name": "stdout",
     "output_type": "stream",
     "text": [
      "             precision    recall  f1-score   support\n",
      "\n",
      "        0.0       0.66      0.81      0.73     59502\n",
      "        1.0       0.58      0.39      0.47     40001\n",
      "\n",
      "avg / total       0.63      0.64      0.62     99503\n",
      "\n"
     ]
    }
   ],
   "source": [
    "from sklearn.metrics import classification_report\n",
    "print(classification_report(y_test, y_pred))"
   ]
  },
  {
   "cell_type": "markdown",
   "metadata": {},
   "source": [
    "**Interpretation: Of the entire test set, 63% of the projects were which had successful launch.**"
   ]
  },
  {
   "cell_type": "markdown",
   "metadata": {},
   "source": [
    "## ROC Curve"
   ]
  },
  {
   "cell_type": "markdown",
   "metadata": {},
   "source": [
    "**ROC curves typically feature true positive rate on the Y axis, and false positive rate on the X axis. This means that the top left corner of the plot is the “ideal” point - a false positive rate of zero, and a true positive rate of one. Translating to a larger area under the curve (AUC) is usually better.**"
   ]
  },
  {
   "cell_type": "code",
   "execution_count": 76,
   "metadata": {},
   "outputs": [
    {
     "data": {
      "image/png": "[encoded data removed]",
      "text/plain": [
       "<Figure size 432x288 with 1 Axes>"
      ]
     },
     "metadata": {},
     "output_type": "display_data"
    }
   ],
   "source": [
    "from sklearn.metrics import roc_auc_score\n",
    "from sklearn.metrics import roc_curve\n",
    "logit_roc_auc = roc_auc_score(y_test, logreg.predict(X_test))\n",
    "fpr, tpr, thresholds = roc_curve(y_test, logreg.predict_proba(X_test)[:,1])\n",
    "plt.figure()\n",
    "plt.plot(fpr, tpr, label='Logistic Regression (area = %0.2f)' % logit_roc_auc)\n",
    "plt.plot([0, 1], [0, 1],'r--')\n",
    "plt.xlim([0.0, 1.0])\n",
    "plt.ylim([0.0, 1.05])\n",
    "plt.xlabel('False Positive Rate')\n",
    "plt.ylabel('True Positive Rate')\n",
    "plt.title('Receiver operating characteristic')\n",
    "plt.legend(loc=\"lower right\")\n",
    "plt.savefig('Log_ROC')\n",
    "plt.show()"
   ]
  },
  {
   "cell_type": "markdown",
   "metadata": {},
   "source": [
    "*After getting our regression model in place, let's simulate the success probability wherein we would be varying the goal for a particular category and observe the trend in increase of goal amount and the probability of the product being successfully funded.*"
   ]
  },
  {
   "cell_type": "markdown",
   "metadata": {},
   "source": [
    "<a name=\"Simulation\"> \n",
    "## Simulating the output\n",
    "</a>"
   ]
  },
  {
   "cell_type": "markdown",
   "metadata": {},
   "source": [
    "**Here we will simulate the trend in probability where we change the Goal amount**\n",
    "\n",
    "We have fixed following variable to observe the trend\n",
    "\n",
    "Country = US\n",
    "\n",
    "Launch Month = January\n",
    "\n",
    "Category Considered = Music"
   ]
  },
  {
   "cell_type": "code",
   "execution_count": 77,
   "metadata": {},
   "outputs": [],
   "source": [
    "# User defined function to calculate probability for a goal using the Logistic regression equation\n",
    "def mysimulation(g):\n",
    "    goal = g *1000\n",
    "    p = -0.3348 - 0.00001569*goal+0.2596+0.4002-0.1489\n",
    "    t = np.exp(p)/(1+np.exp(p))\n",
    "    \n",
    "    return t"
   ]
  },
  {
   "cell_type": "code",
   "execution_count": 78,
   "metadata": {},
   "outputs": [],
   "source": [
    "# Simulating the model result by varying the goal amount \n",
    "predict=[]\n",
    "goalamt=[]\n",
    "\n",
    "for i in range(10000):\n",
    "    j = np.random.randint(1, 200)\n",
    "    predict.append(mysimulation(j))\n",
    "    goalamt.append(j*1000)"
   ]
  },
  {
   "cell_type": "code",
   "execution_count": 79,
   "metadata": {
    "scrolled": true
   },
   "outputs": [
    {
     "data": {
      "image/png": "[encoded data removed]",
      "text/plain": [
       "<Figure size 432x288 with 1 Axes>"
      ]
     },
     "metadata": {},
     "output_type": "display_data"
    }
   ],
   "source": [
    "# Plotting the results of Simulation \n",
    "x= goalamt\n",
    "y= predict\n",
    "fig = plt.figure()\n",
    "plt.plot(x,y,'ro')\n",
    "plt.suptitle('Probability Simulation')\n",
    "plt.xlabel('# goal')\n",
    "plt.ylabel('Prediction')\n",
    "plt.show()"
   ]
  },
  {
   "cell_type": "markdown",
   "metadata": {},
   "source": [
    "*The above graph shows that the higher your goals, the lesser is your probability of raising money successfully. This re-iterates the fact that we had seen in Exploratory Data Analysis that successful funded projects have a lower goal amount.*"
   ]
  },
  {
   "cell_type": "markdown",
   "metadata": {},
   "source": [
    "<a name=\"Timing-Efficiency\"> \n",
    "### Relationship between Time taken to get regression results when data size increases i.e. Number of observations increases.\n",
    "</a>"
   ]
  },
  {
   "cell_type": "code",
   "execution_count": 80,
   "metadata": {},
   "outputs": [
    {
     "data": {
      "text/html": [
       "<div>\n",
       "<style scoped>\n",
       "    .dataframe tbody tr th:only-of-type {\n",
       "        vertical-align: middle;\n",
       "    }\n",
       "\n",
       "    .dataframe tbody tr th {\n",
       "        vertical-align: top;\n",
       "    }\n",
       "\n",
       "    .dataframe thead th {\n",
       "        text-align: right;\n",
       "    }\n",
       "</style>\n",
       "<table border=\"1\" class=\"dataframe\">\n",
       "  <thead>\n",
       "    <tr style=\"text-align: right;\">\n",
       "      <th></th>\n",
       "      <th>state</th>\n",
       "      <th>usd_goal_real</th>\n",
       "      <th>main_category_Art</th>\n",
       "      <th>main_category_Comics</th>\n",
       "      <th>main_category_Crafts</th>\n",
       "      <th>main_category_Dance</th>\n",
       "      <th>main_category_Design</th>\n",
       "      <th>main_category_Fashion</th>\n",
       "      <th>main_category_Film &amp; Video</th>\n",
       "      <th>main_category_Food</th>\n",
       "      <th>...</th>\n",
       "      <th>launched_month_04</th>\n",
       "      <th>launched_month_05</th>\n",
       "      <th>launched_month_06</th>\n",
       "      <th>launched_month_07</th>\n",
       "      <th>launched_month_08</th>\n",
       "      <th>launched_month_09</th>\n",
       "      <th>launched_month_10</th>\n",
       "      <th>launched_month_11</th>\n",
       "      <th>launched_month_12</th>\n",
       "      <th>intercept</th>\n",
       "    </tr>\n",
       "  </thead>\n",
       "  <tbody>\n",
       "    <tr>\n",
       "      <th>0</th>\n",
       "      <td>0.000</td>\n",
       "      <td>7.336</td>\n",
       "      <td>0</td>\n",
       "      <td>0</td>\n",
       "      <td>0</td>\n",
       "      <td>0</td>\n",
       "      <td>0</td>\n",
       "      <td>0</td>\n",
       "      <td>0</td>\n",
       "      <td>0</td>\n",
       "      <td>...</td>\n",
       "      <td>0</td>\n",
       "      <td>0</td>\n",
       "      <td>0</td>\n",
       "      <td>0</td>\n",
       "      <td>1</td>\n",
       "      <td>0</td>\n",
       "      <td>0</td>\n",
       "      <td>0</td>\n",
       "      <td>0</td>\n",
       "      <td>1</td>\n",
       "    </tr>\n",
       "    <tr>\n",
       "      <th>1</th>\n",
       "      <td>0.000</td>\n",
       "      <td>10.309</td>\n",
       "      <td>0</td>\n",
       "      <td>0</td>\n",
       "      <td>0</td>\n",
       "      <td>0</td>\n",
       "      <td>0</td>\n",
       "      <td>0</td>\n",
       "      <td>1</td>\n",
       "      <td>0</td>\n",
       "      <td>...</td>\n",
       "      <td>0</td>\n",
       "      <td>0</td>\n",
       "      <td>0</td>\n",
       "      <td>0</td>\n",
       "      <td>0</td>\n",
       "      <td>1</td>\n",
       "      <td>0</td>\n",
       "      <td>0</td>\n",
       "      <td>0</td>\n",
       "      <td>1</td>\n",
       "    </tr>\n",
       "    <tr>\n",
       "      <th>2</th>\n",
       "      <td>0.000</td>\n",
       "      <td>10.714</td>\n",
       "      <td>0</td>\n",
       "      <td>0</td>\n",
       "      <td>0</td>\n",
       "      <td>0</td>\n",
       "      <td>0</td>\n",
       "      <td>0</td>\n",
       "      <td>1</td>\n",
       "      <td>0</td>\n",
       "      <td>...</td>\n",
       "      <td>0</td>\n",
       "      <td>0</td>\n",
       "      <td>0</td>\n",
       "      <td>0</td>\n",
       "      <td>0</td>\n",
       "      <td>0</td>\n",
       "      <td>0</td>\n",
       "      <td>0</td>\n",
       "      <td>0</td>\n",
       "      <td>1</td>\n",
       "    </tr>\n",
       "    <tr>\n",
       "      <th>3</th>\n",
       "      <td>0.000</td>\n",
       "      <td>8.517</td>\n",
       "      <td>0</td>\n",
       "      <td>0</td>\n",
       "      <td>0</td>\n",
       "      <td>0</td>\n",
       "      <td>0</td>\n",
       "      <td>0</td>\n",
       "      <td>0</td>\n",
       "      <td>0</td>\n",
       "      <td>...</td>\n",
       "      <td>0</td>\n",
       "      <td>0</td>\n",
       "      <td>0</td>\n",
       "      <td>0</td>\n",
       "      <td>0</td>\n",
       "      <td>0</td>\n",
       "      <td>0</td>\n",
       "      <td>0</td>\n",
       "      <td>0</td>\n",
       "      <td>1</td>\n",
       "    </tr>\n",
       "    <tr>\n",
       "      <th>4</th>\n",
       "      <td>1.000</td>\n",
       "      <td>10.820</td>\n",
       "      <td>0</td>\n",
       "      <td>0</td>\n",
       "      <td>0</td>\n",
       "      <td>0</td>\n",
       "      <td>0</td>\n",
       "      <td>0</td>\n",
       "      <td>0</td>\n",
       "      <td>1</td>\n",
       "      <td>...</td>\n",
       "      <td>0</td>\n",
       "      <td>0</td>\n",
       "      <td>0</td>\n",
       "      <td>0</td>\n",
       "      <td>0</td>\n",
       "      <td>0</td>\n",
       "      <td>0</td>\n",
       "      <td>0</td>\n",
       "      <td>0</td>\n",
       "      <td>1</td>\n",
       "    </tr>\n",
       "  </tbody>\n",
       "</table>\n",
       "<p>5 rows × 53 columns</p>\n",
       "</div>"
      ],
      "text/plain": [
       "   state  usd_goal_real  main_category_Art  main_category_Comics  \\\n",
       "0  0.000          7.336                  0                     0   \n",
       "1  0.000         10.309                  0                     0   \n",
       "2  0.000         10.714                  0                     0   \n",
       "3  0.000          8.517                  0                     0   \n",
       "4  1.000         10.820                  0                     0   \n",
       "\n",
       "   main_category_Crafts  main_category_Dance  main_category_Design  \\\n",
       "0                     0                    0                     0   \n",
       "1                     0                    0                     0   \n",
       "2                     0                    0                     0   \n",
       "3                     0                    0                     0   \n",
       "4                     0                    0                     0   \n",
       "\n",
       "   main_category_Fashion  main_category_Film & Video  main_category_Food  \\\n",
       "0                      0                           0                   0   \n",
       "1                      0                           1                   0   \n",
       "2                      0                           1                   0   \n",
       "3                      0                           0                   0   \n",
       "4                      0                           0                   1   \n",
       "\n",
       "     ...      launched_month_04  launched_month_05  launched_month_06  \\\n",
       "0    ...                      0                  0                  0   \n",
       "1    ...                      0                  0                  0   \n",
       "2    ...                      0                  0                  0   \n",
       "3    ...                      0                  0                  0   \n",
       "4    ...                      0                  0                  0   \n",
       "\n",
       "   launched_month_07  launched_month_08  launched_month_09  launched_month_10  \\\n",
       "0                  0                  1                  0                  0   \n",
       "1                  0                  0                  1                  0   \n",
       "2                  0                  0                  0                  0   \n",
       "3                  0                  0                  0                  0   \n",
       "4                  0                  0                  0                  0   \n",
       "\n",
       "   launched_month_11  launched_month_12  intercept  \n",
       "0                  0                  0          1  \n",
       "1                  0                  0          1  \n",
       "2                  0                  0          1  \n",
       "3                  0                  0          1  \n",
       "4                  0                  0          1  \n",
       "\n",
       "[5 rows x 53 columns]"
      ]
     },
     "execution_count": 80,
     "metadata": {},
     "output_type": "execute_result"
    }
   ],
   "source": [
    "data = data.reset_index(drop=True)\n",
    "data.head() #Observing the data "
   ]
  },
  {
   "cell_type": "code",
   "execution_count": 81,
   "metadata": {},
   "outputs": [
    {
     "name": "stdout",
     "output_type": "stream",
     "text": [
      "Optimization terminated successfully.\n",
      "         Current function value: 0.628424\n",
      "         Iterations 5\n",
      "Optimization terminated successfully.\n",
      "         Current function value: 0.629970\n",
      "         Iterations 5\n",
      "Optimization terminated successfully.\n",
      "         Current function value: 0.629883\n",
      "         Iterations 5\n",
      "Optimization terminated successfully.\n",
      "         Current function value: 0.629788\n",
      "         Iterations 5\n",
      "Optimization terminated successfully.\n",
      "         Current function value: 0.629652\n",
      "         Iterations 5\n",
      "Optimization terminated successfully.\n",
      "         Current function value: 0.629744\n",
      "         Iterations 5\n",
      "Optimization terminated successfully.\n",
      "         Current function value: 0.630053\n",
      "         Iterations 5\n",
      "Optimization terminated successfully.\n",
      "         Current function value: 0.629500\n",
      "         Iterations 5\n",
      "Optimization terminated successfully.\n",
      "         Current function value: 0.629511\n",
      "         Iterations 5\n",
      "Optimization terminated successfully.\n",
      "         Current function value: 0.629046\n",
      "         Iterations 5\n",
      "Optimization terminated successfully.\n",
      "         Current function value: 0.629120\n",
      "         Iterations 5\n",
      "Optimization terminated successfully.\n",
      "         Current function value: 0.629005\n",
      "         Iterations 5\n",
      "Optimization terminated successfully.\n",
      "         Current function value: 0.628673\n",
      "         Iterations 5\n",
      "Optimization terminated successfully.\n",
      "         Current function value: 0.628746\n",
      "         Iterations 5\n",
      "Optimization terminated successfully.\n",
      "         Current function value: 0.628760\n",
      "         Iterations 5\n",
      "Optimization terminated successfully.\n",
      "         Current function value: 0.628954\n",
      "         Iterations 5\n",
      "Optimization terminated successfully.\n",
      "         Current function value: 0.628965\n",
      "         Iterations 5\n",
      "Optimization terminated successfully.\n",
      "         Current function value: 0.628713\n",
      "         Iterations 5\n",
      "Optimization terminated successfully.\n",
      "         Current function value: 0.628560\n",
      "         Iterations 5\n",
      "Optimization terminated successfully.\n",
      "         Current function value: 0.628613\n",
      "         Iterations 5\n",
      "Optimization terminated successfully.\n",
      "         Current function value: 0.628481\n",
      "         Iterations 5\n",
      "Optimization terminated successfully.\n",
      "         Current function value: 0.628649\n",
      "         Iterations 5\n",
      "Optimization terminated successfully.\n",
      "         Current function value: 0.628854\n",
      "         Iterations 5\n",
      "Optimization terminated successfully.\n",
      "         Current function value: 0.628850\n",
      "         Iterations 5\n",
      "Optimization terminated successfully.\n",
      "         Current function value: 0.628890\n",
      "         Iterations 5\n",
      "Optimization terminated successfully.\n",
      "         Current function value: 0.628763\n",
      "         Iterations 5\n",
      "Optimization terminated successfully.\n",
      "         Current function value: 0.628661\n",
      "         Iterations 5\n",
      "Optimization terminated successfully.\n",
      "         Current function value: 0.628538\n",
      "         Iterations 5\n",
      "Optimization terminated successfully.\n",
      "         Current function value: 0.628427\n",
      "         Iterations 5\n"
     ]
    },
    {
     "data": {
      "image/png": "[encoded data removed]",
      "text/plain": [
       "<Figure size 432x288 with 1 Axes>"
      ]
     },
     "metadata": {},
     "output_type": "display_data"
    },
    {
     "name": "stdout",
     "output_type": "stream",
     "text": [
      "Duration: 11.502241849899292\n"
     ]
    }
   ],
   "source": [
    "start_1=time.time()\n",
    "#Changing the number of observations\n",
    "\n",
    "data['intercept'] = 1\n",
    "x=range(10000,300000,10000) #Providing the starting data size at 10,000 observations with maximum data size of 300,000 observations. \n",
    "\n",
    "Time=[]\n",
    "\n",
    "for i in x:\n",
    "    \n",
    "     \n",
    "    data_subsetted=data.loc[:i,]\n",
    "    start=time.time()\n",
    "    X=data_subsetted[cols]\n",
    "    y=data_subsetted['state']\n",
    "\n",
    "    logit_model=sm.Logit(y,X)\n",
    "    result=logit_model.fit() #Running logistic model\n",
    "    Time.append(time.time()-start)\n",
    "\n",
    "\n",
    "fig = plt.figure()\n",
    "ax1 = fig.add_subplot(111)\n",
    "ax1.loglog (x, Time, 'k-',linewidth=3,label=\"Code\")\n",
    "\n",
    "linearTime = [Time[0]/x[0]*m for m in x] #Calculating Linear time as a benchmark timing with our code\n",
    "\n",
    "ax1.loglog (x, linearTime, 'b--',label=\"Linear\")\n",
    "\n",
    "plt.xlabel('Number of Observations')\n",
    "plt.ylabel('Time taken for logistic regression')\n",
    "plt.legend(bbox_to_anchor=(1.05, 1), loc=2, borderaxespad=0.)\n",
    "\n",
    "plt.show()\n",
    "\n",
    "print(\"Duration: \"+str(time.time()-start_1))\n"
   ]
  },
  {
   "cell_type": "markdown",
   "metadata": {},
   "source": [
    "Inorder to check how increase in datasize would affect the time taken, we have taken the most important part of the code which generates the result of the logistic regression model.\n",
    "Since the dataset which we have taken is already 330k rows, we started by subsetting the data to 10k and gradually increased it to 300k with evenly spaced interval of 10k and calculated the time taken for each subset of data.\n",
    "With this we plotted a graph in which on the Y-Axis we plotted the time taken for running the logistic regression and on the X-Axis we plotted the number of observations. On plotting the log of time's taken vs log of number of observations, we observed that the relationship is apporximately linear increasing.\n",
    "\n",
    "**We monitored the time taken vs number of observations and saw the impact of time on most important part of the code when size becomes 30 times from initial size of 10K observations till 300K observations.**"
   ]
  }
 ],
 "metadata": {
  "kernelspec": {
   "display_name": "Python 3",
   "language": "python",
   "name": "python3"
  },
  "language_info": {
   "codemirror_mode": {
    "name": "ipython",
    "version": 3
   },
   "file_extension": ".py",
   "mimetype": "text/x-python",
   "name": "python",
   "nbconvert_exporter": "python",
   "pygments_lexer": "ipython3",
   "version": "3.6.5"
  }
 },
 "nbformat": 4,
 "nbformat_minor": 2
}
